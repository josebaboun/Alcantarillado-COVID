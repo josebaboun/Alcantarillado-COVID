{
 "cells": [
  {
   "cell_type": "code",
   "execution_count": 1,
   "metadata": {},
   "outputs": [],
   "source": [
    "import random\n",
    "from ipynb.fs.full.Funciones_basicas import *\n",
    "from ipynb.fs.full.Algoritmos import *"
   ]
  },
  {
   "cell_type": "markdown",
   "metadata": {},
   "source": [
    "## Funciones para visualizar resultados\n",
    "\n",
    "### points_coordinates\n",
    "- Input: Una lista de puntos (lo típico es que sea la solución) el DataFrame de GeoPandas de gemeotría del grafo y el diccionario _ id que devuelve a su id original a los nodos del grafo\n",
    "- Output: Una lista de objetos Point de geometry en sus coordenadas."
   ]
  },
  {
   "cell_type": "code",
   "execution_count": 2,
   "metadata": {},
   "outputs": [],
   "source": [
    "def points_coordinates(points, geometry, _id):\n",
    "    original_points = [_id[i] for i in points]\n",
    "    coord = []\n",
    "    for id in original_points:\n",
    "        # Usamos try ya que no todas las aristas tienen un objeto de geometry asociado\n",
    "        try:\n",
    "            filtered = geometry[geometry['self'] == str(id)]['geometry'].iloc[0].coords[0]\n",
    "            x = filtered[0] ; y = filtered[1]\n",
    "            coord.append(Point(x, y))\n",
    "        except:\n",
    "            pass\n",
    "    return coord"
   ]
  },
  {
   "cell_type": "markdown",
   "metadata": {},
   "source": [
    "## plot_solution\n",
    "- Input: lista de puntos, el grafo, su N, el Geopandas DataFrame de geometría y su diccionario _ id\n",
    "- Plotea la solución junto con sus puntos. \n",
    "- Nota: Esta función funciona correctamente cuando no se vuelven a particionar ideales ya tomados en una solución anterior."
   ]
  },
  {
   "cell_type": "code",
   "execution_count": 1,
   "metadata": {},
   "outputs": [],
   "source": [
    "def plot_solution(solution, G, N, geom, _id):\n",
    "    geometry = geom.copy()\n",
    "    visited = list()\n",
    "    # Para cada elemento de la solución vamos a obtener su ideal y agregarlo a una lista\n",
    "    for element in solution:\n",
    "        ideal = [_id[u] for u in get_ideal(G, [0] * N, element)]\n",
    "        visited.append(ideal)\n",
    "\n",
    "    # Marcamos los elementos visitados en geometry\n",
    "    geometry['color'] = -1\n",
    "    for i in range(len(visited)):\n",
    "        for n in visited[i]:\n",
    "            geometry.loc[geometry['self'] ==  str(n) , 'color'] = i + 1  \n",
    "            for ideal in visited:\n",
    "                if n in ideal and ideal != visited[i]:\n",
    "                    # Identificamos intersecciones y las ploteamos de diferente color\n",
    "                    geometry.loc[geometry['self'] ==  str(n) , 'color'] = 0  \n",
    "                    break\n",
    "\n",
    "    # Graficamos puntos de testeo\n",
    "    points = solution\n",
    "    coord = points_coordinates(points, geometry, _id)\n",
    "    for i in range(len(coord)):\n",
    "        geometry.loc[geometry.shape[0] + i] = ['a'] + [\"b\"] + [3] + [1] + [coord[i]] + [len(solution) - 1]\n",
    "\n",
    "    #Graficamos\n",
    "    f, ax = plt.subplots(figsize=(15, 15))\n",
    "    ax.set_title(\"Resultados de testeo\", fontsize=25)\n",
    "    ax = geometry.plot(ax = ax, column = 'color',\n",
    "                       figsize=(15, 15),\n",
    "                       legend = True,\n",
    "                       legend_kwds={'label': \"-1: No cubierto \\n 0: intersección \", 'orientation': \"horizontal\"},\n",
    "                       cmap = 'nipy_spectral',)\n",
    "\n",
    "    plt.show()"
   ]
  },
  {
   "cell_type": "markdown",
   "metadata": {},
   "source": [
    "## get_plot_solution\n",
    "- Input: K, límite de nodos y límite de peso\n",
    "- Se calcula la solución con greedyAppWeightReduce, se plotea junto con sus puntos y se guarda la figura en una carpeta llamada Results\n",
    "- Output: lista de nodos de la solución y porcentaje cubierto"
   ]
  },
  {
   "cell_type": "code",
   "execution_count": 4,
   "metadata": {},
   "outputs": [],
   "source": [
    "def get_plot_solution(G, N, K, nodes_limit, weight_limit, geom, _id):\n",
    "    V = [0 for u in range(N)]\n",
    "    solution, covered = greedyAppWeightReduce(G, V, N, K, nodes_limit, weight_limit)\n",
    "    covered = round(covered * 100, 1)\n",
    "    geometry = geom.copy()\n",
    "    visited = list()\n",
    "    for element in solution:\n",
    "        ideal = get_ideal_(G, N, element, _id)\n",
    "        visited.append(ideal)\n",
    "\n",
    "    # Marcamos los elementos visitados en geometry\n",
    "    geometry['color'] = -1\n",
    "    for i in range(len(visited)):\n",
    "        for n in visited[i]:\n",
    "            geometry.loc[geometry['self'] ==  str(n) , 'color'] = i + 1  \n",
    "            for ideal in visited:\n",
    "                if n in ideal and ideal != visited[i]:\n",
    "                    geometry.loc[geometry['self'] ==  str(n) , 'color'] = 0  # Identificamos intersecciones y las ploteamos de diferente color\n",
    "                    break\n",
    "\n",
    "    # Graficamos puntos de testeo\n",
    "    points = solution\n",
    "    coord = points_coordinates(points, geometry, _id)\n",
    "    for i in range(len(coord)):\n",
    "        geometry.loc[geometry.shape[0] + i] = ['a'] + [\"a\"] + ['a'] + ['a'] + [coord[i]] + [len(solution) - 2]\n",
    "\n",
    "    #Graficamos\n",
    "    f, ax = plt.subplots(figsize=(15, 15))\n",
    "    ax.set_title(f'Muestras: {K}, límite de nodos: {math.floor(nodes_limit)}, límite de personas: {weight_limit} \\n Cobertura: {covered}%', fontsize=20)\n",
    "  \n",
    "    ax = geometry.plot(ax = ax, column = 'color',\n",
    "                       figsize=(15, 15),\n",
    "                       legend = True,\n",
    "                       legend_kwds={'label': \"-1: No cubierto \\n 0: intersección \", 'orientation': \"horizontal\"},\n",
    "                       cmap = 'nipy_spectral',)\n",
    "  \n",
    "    plt.savefig(f\"Results/K={K}_N={math.floor(nodes_limit)}_W={weight_limit}.png\", dpi=100)\n",
    "    plt.show()\n",
    "    solution = [_id[i] for i in solution]\n",
    "    return solution, covered"
   ]
  },
  {
   "cell_type": "markdown",
   "metadata": {},
   "source": [
    "## plot_from_ideals \n",
    "- Input: Un diccionario llamado ideals en donde las llaves corresponden a sus puntos de testeo y sus valores a una lista de sus respectivos ideales. \n",
    "- Se visualizan sus resultados.\n"
   ]
  },
  {
   "cell_type": "code",
   "execution_count": 1,
   "metadata": {},
   "outputs": [],
   "source": [
    "def plot_from_ideals(ideals, G, N, geom, _id):\n",
    "    geometry = geom.copy()\n",
    "    visited = list(ideals.values())\n",
    "\n",
    "    # Marcamos los elementos visitados en geometry\n",
    "    geometry['color'] = -1\n",
    "    for i in range(len(visited)):\n",
    "        for n in visited[i]:\n",
    "            n = _id[n]\n",
    "            geometry.loc[geometry['self'] ==  str(n) , 'color'] = i + 1  \n",
    "            for ideal in visited:\n",
    "                if n in ideal and ideal != visited[i]:\n",
    "                    # Identificamos intersecciones y las ploteamos de diferente color\n",
    "                    geometry.loc[geometry['self'] ==  str(n) , 'color'] = 0 \n",
    "                    break\n",
    "\n",
    "    # Graficamos puntos de testeo\n",
    "    points = list(ideals.keys())\n",
    "    coord = points_coordinates(points, geometry, _id)\n",
    "    for i in range(len(coord)):\n",
    "        geometry.loc[geometry.shape[0] + i] = ['a'] + [\"b\"] + [3] + [1] + [coord[i]] + [len(points) - 2]\n",
    "\n",
    "    #Graficamos\n",
    "    f, ax = plt.subplots(figsize=(15, 15))\n",
    "    ax.set_title(\"Resultados de testeo\", fontsize=25)\n",
    "    ax = geometry.plot(ax = ax, column = 'color',\n",
    "                       figsize=(15, 15),\n",
    "                       legend = True,\n",
    "                       legend_kwds={'label': \"-1: No cubierto \\n 0: intersección \", 'orientation': \"horizontal\"},\n",
    "                       cmap = 'nipy_spectral',)\n",
    "\n",
    "    plt.show()"
   ]
  },
  {
   "cell_type": "markdown",
   "metadata": {},
   "source": [
    "## plot_solution_partition\n",
    "\n",
    "- Input: Diccionario de la forma {id1: [id2, ..., idn]} donde id1 corresponde a la raíz de un ideal y la lista de [id2, ..., idn] a nodos dentro de ideal original para particionar a este último.\n",
    "- Se visualizan resultados"
   ]
  },
  {
   "cell_type": "code",
   "execution_count": 6,
   "metadata": {},
   "outputs": [],
   "source": [
    "def plot_solution_partition(solution_dict, G, N, geom, _id):\n",
    "    # guardamos de la forma (ideal, [subideal1, subideal2])\n",
    "    geometry = geom.copy()\n",
    "    visited = list()\n",
    "    for element in solution_dict.keys():\n",
    "        subideals = [get_ideal_(G, N, i, _id) for i in solution_dict[element]]\n",
    "        ideal = get_ideal_(G, N, element, _id)\n",
    "        visited.append( (ideal, subideals) )\n",
    "\n",
    "    # Marcamos los elementos visitados en geometry\n",
    "    geometry['color'] = -1\n",
    "    for i in range(len(visited)):\n",
    "        # Raíz de la partición\n",
    "        for n in visited[i][0]:\n",
    "            geometry.loc[geometry['self'] ==  str(n) , 'color'] = i + 1\n",
    "        # Lista de subideales. Cada uno lo visualizaremos de diferente color\n",
    "        subideals = visited[i][1]\n",
    "        for n in range(len(subideals)):\n",
    "            for j in subideals[n]:\n",
    "                geometry.loc[geometry['self'] ==  str(j) , 'color'] = (i + 1) + (0.7 * (n + 1))\n",
    "\n",
    "            for ideal in visited:\n",
    "                if n in ideal and ideal != visited[i]:\n",
    "                    # Identificamos intersecciones y las ploteamos de diferente color\n",
    "                    geometry.loc[geometry['self'] ==  str(n) , 'color'] = 0  \n",
    "                    break\n",
    "\n",
    "    # Graficamos puntos de testeo\n",
    "    points = list(solution_dict.keys()) + [i[0] for i in solution_dict.values() if i != []]\n",
    "    coord = points_coordinates(points, geometry, _id)\n",
    "    for i in range(len(coord)):\n",
    "        geometry.loc[geometry.shape[0] + i] = ['a'] + [\"b\"] + [3] + [1] + [coord[i]] + [len(solution) - 2]\n",
    "\n",
    "  \n",
    "    #Graficamos\n",
    "    f, ax = plt.subplots(figsize=(15, 15))\n",
    "    ax.set_title(\"Resultados de testeo\", fontsize=25)\n",
    "    ax = geometry.plot(ax = ax, column = 'color',\n",
    "                      figsize=(15, 15),\n",
    "                      legend = True,\n",
    "                      legend_kwds={'label': \"-1: No cubierto \\n 0: intersección \", 'orientation': \"horizontal\"},\n",
    "                      cmap = 'nipy_spectral',)\n",
    "  \n",
    "    plt.show()"
   ]
  },
  {
   "cell_type": "markdown",
   "metadata": {},
   "source": [
    "## plot_sample_no_intersections\n",
    "- Input: Lista de nodos a considerar\n",
    "- Visualiza los ideales de la lista sin considerar las intersecciones."
   ]
  },
  {
   "cell_type": "code",
   "execution_count": 7,
   "metadata": {},
   "outputs": [],
   "source": [
    "def plot_sample_no_intersections(G, V, sample, geom, _id, name):\n",
    "    \n",
    "    geometry = geom.copy(); N = len(V)\n",
    "    \n",
    "    I = []; C = [-1 * V[u] for u in range(N)]\n",
    "    for u in sample:\n",
    "        I.append(get_ideal(G, V, u))\n",
    "        V, _ = visit(G, V, u)\n",
    "    \n",
    "    for i in range(len(I)):\n",
    "        for u in I[i]:\n",
    "            if C[u] == 0:\n",
    "                C[u] = i + 1\n",
    "                \n",
    "    newC = list(range(1, len(sample) + 1))\n",
    "    random.shuffle(newC)\n",
    "    for u in range(N):\n",
    "        C[u] = newC[C[u] - 1]\n",
    "\n",
    "    # Marcamos los elementos visitados en geometry\n",
    "    geometry['color'] = -1\n",
    "    for u in range(N):\n",
    "        if C[u] != -1:\n",
    "            geometry.loc[geometry['self'] == str(_id[u]) , 'color'] = C[u]\n",
    "            \n",
    "    # Graficamos puntos de testeo\n",
    "    coord = points_coordinates(sample, geometry, _id)\n",
    "    for i in range(len(coord)):\n",
    "        geometry.loc[geometry.shape[0] + i] = ['a'] + [\"b\"] + [3] + [1] + [coord[i]] + [len(sample) - 2]\n",
    "          \n",
    "    # Graficamos\n",
    "    f, ax = plt.subplots(figsize=(15, 15))\n",
    "    ax.set_title(\"Resultados de testeo\", fontsize=25)\n",
    "    ax = geometry.plot(ax = ax, column = 'color',\n",
    "                       figsize=(15, 15),\n",
    "                       legend = True,\n",
    "                       legend_kwds={'label': \"-1: No considerado \\n 0: No cubierto \", 'orientation': \"horizontal\"},\n",
    "                       cmap = 'nipy_spectral',)\n",
    "    plt.savefig(name)"
   ]
  },
  {
   "cell_type": "markdown",
   "metadata": {},
   "source": [
    "## plot_sizes\n",
    "\n",
    "- Input: Lista de tamanos \n",
    "- Plotea un histograma de estos valores. Los bins van del 0 al 900 con intervals de 50 cada uno."
   ]
  },
  {
   "cell_type": "code",
   "execution_count": 8,
   "metadata": {},
   "outputs": [],
   "source": [
    "def plot_sizes(sizes):\n",
    "    bins = np.arange(0, 900, 50) # fixed bin size\n",
    "    plt.hist(sizes, bins=bins, alpha=0.5)\n",
    "    plt.title(f'Histograma de frecuencias de testeo.\\n Máximo ideal de {max(sizes)}')\n",
    "    plt.xlabel('Cantidad de nodos en ideal')\n",
    "    plt.ylabel('Frecuencia')\n",
    "\n",
    "    plt.show()"
   ]
  },
  {
   "cell_type": "code",
   "execution_count": null,
   "metadata": {},
   "outputs": [],
   "source": []
  }
 ],
 "metadata": {
  "kernelspec": {
   "display_name": "Python 3 (ipykernel)",
   "language": "python",
   "name": "python3"
  },
  "language_info": {
   "codemirror_mode": {
    "name": "ipython",
    "version": 3
   },
   "file_extension": ".py",
   "mimetype": "text/x-python",
   "name": "python",
   "nbconvert_exporter": "python",
   "pygments_lexer": "ipython3",
<<<<<<< HEAD
   "version": "3.7.6"
=======
   "version": "3.8.10"
>>>>>>> fa203cd24143426af67740b16f6076bc798e8f38
  }
 },
 "nbformat": 4,
 "nbformat_minor": 4
}
