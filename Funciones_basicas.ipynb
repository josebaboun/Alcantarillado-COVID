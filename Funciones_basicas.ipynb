{
 "cells": [
  {
   "cell_type": "markdown",
   "metadata": {},
   "source": [
    "## Trabajo realizado por Benjamín Rubio y José Baboun\n",
    "Importamos librerías necesarias"
   ]
  },
  {
   "cell_type": "code",
   "execution_count": 1,
   "metadata": {},
   "outputs": [],
   "source": [
    "import numpy as np\n",
    "import pandas as pd\n",
    "import matplotlib.pyplot as plt\n",
    "from matplotlib import pylab\n",
    "import networkx as nx\n",
    "from collections import deque\n",
    "import geopandas as gpd\n",
    "import math\n",
    "from shapely.geometry import Point\n",
    "import itertools"
   ]
  },
  {
   "cell_type": "markdown",
   "metadata": {},
   "source": [
    "## Funciones básicas"
   ]
  },
  {
   "cell_type": "markdown",
   "metadata": {},
   "source": [
    "### get_size:\n",
    "- Input: Grafo (G), la lista de nodos ya visitados (V_) y un nodo (u).\n",
    "- Output: Tamano del ideal de u dentro de los nodos no visitados."
   ]
  },
  {
   "cell_type": "code",
   "execution_count": 2,
   "metadata": {},
   "outputs": [],
   "source": [
    "def get_size(G, V_, u):\n",
    "    \n",
    "    if V_[u]:\n",
    "        return 0\n",
    "    \n",
    "    V = V_.copy()\n",
    "    \n",
    "    ans = 1;  V[u] = 1\n",
    "    Q = deque([]); Q.append(u)\n",
    "    while Q:\n",
    "        u = Q.popleft()\n",
    "        for v in G.predecessors(u):\n",
    "            if not V[v]:\n",
    "                ans += 1; V[v] = 1\n",
    "                Q.append(v)\n",
    "    \n",
    "    return ans"
   ]
  },
  {
   "cell_type": "markdown",
   "metadata": {},
   "source": [
    "### visit:\n",
    "- Input: Grafo (G), la lista de nodos ya visitados (V) y un nodo (u).\n",
    "- Output: Marca como visitados todos los nodos dentro del ideal de u no visitados. Retorna la lista actualizada y la cantidad de nodos visitados."
   ]
  },
  {
   "cell_type": "code",
   "execution_count": 3,
   "metadata": {},
   "outputs": [],
   "source": [
    "def visit(G, V, u):\n",
    "    \n",
    "    if V[u]:\n",
    "        return V, 0\n",
    "    \n",
    "    V[u] = 1; ans = 1\n",
    "    Q = deque([]); Q.append(u)\n",
    "    while Q:\n",
    "        u = Q.popleft(); ans += 1\n",
    "        for v in G.predecessors(u):\n",
    "            if not V[v]:\n",
    "                V[v] = 1\n",
    "                Q.append(v)\n",
    "    \n",
    "    return V, ans"
   ]
  },
  {
   "cell_type": "markdown",
   "metadata": {},
   "source": [
    "### get_size_weight:\n",
    "- Input: Grafo (G), lista de pesos por nodo (W), la lista de nodos ya visitados (V_) y un nodo (u).\n",
    "- Output: Tamaño del ideal de u dentro de los nodos no visitados y su peso."
   ]
  },
  {
   "cell_type": "code",
   "execution_count": 4,
   "metadata": {},
   "outputs": [],
   "source": [
    "def get_size_weight(G, W, V_, u):\n",
    "    \n",
    "    if V_[u]:\n",
    "        return 0, 0\n",
    "    \n",
    "    V = V_.copy()\n",
    "    \n",
    "    s = 1; w = W[u]; V[u] = 1\n",
    "    Q = deque([]); Q.append(u)\n",
    "    while Q:\n",
    "        u = Q.popleft()\n",
    "        for v in G.predecessors(u):\n",
    "            if not V[v]:\n",
    "                s += 1; w += W[v]; V[v] = 1\n",
    "                Q.append(v)\n",
    "    \n",
    "    return s, w"
   ]
  },
  {
   "cell_type": "markdown",
   "metadata": {},
   "source": [
    "### get_size_precalc:\n",
    "- Input: Grafo (G), lista de pesos de ideal por nodo precalculados (W), la lista de nodos ya visitados (V_) y un nodo (u).\n",
    "- Output: Tamaño del ideal de u dentro de los nodos no visitados acumulando los ideales con peso menor a 200."
   ]
  },
  {
   "cell_type": "code",
   "execution_count": 5,
   "metadata": {},
   "outputs": [],
   "source": [
    "def get_size_precalc(G, W, V_, u):\n",
    "    \n",
    "    if V_[u]:\n",
    "        return 0\n",
    "    \n",
    "    if W[u] <= 200:\n",
    "        return 1\n",
    "    \n",
    "    V = V_.copy()\n",
    "    \n",
    "    s = 1; V[u] = 1\n",
    "    Q = deque([]); Q.append(u)\n",
    "    while Q:\n",
    "        u = Q.popleft()\n",
    "        for v in G.predecessors(u):\n",
    "            if not V[v]:\n",
    "                s += 1; V[v] = 1\n",
    "                if W[v] > 200:\n",
    "                    Q.append(v)\n",
    "    \n",
    "    return s"
   ]
  },
  {
   "cell_type": "markdown",
   "metadata": {},
   "source": [
    "### add_visit:\n",
    "- Input: Grafo (G), la lista de nodos ya visitados (V) y un nodo (u).\n",
    "- Output: None. Suma 1 a todos los nodos del ideal de u no visitados en V."
   ]
  },
  {
   "cell_type": "code",
   "execution_count": 6,
   "metadata": {},
   "outputs": [],
   "source": [
    "def add_visit(G, V, u):\n",
    "    \n",
    "    V_ = [0 for u in V]\n",
    "    \n",
    "    V[u] += 1\n",
    "    Q = deque([]); Q.append(u)\n",
    "    while Q:\n",
    "        u = Q.popleft()\n",
    "        for v in G.predecessors(u):\n",
    "            if not V_[v]:\n",
    "                V[v] += 1; V_[v] = 1\n",
    "                Q.append(v)"
   ]
  },
  {
   "cell_type": "markdown",
   "metadata": {},
   "source": [
    "### get_ideal:\n",
    "- Input: Grafo (G), la lista de nodos ya visitados (V_) y un nodo (u).\n",
    "- Output: Lista del ideal de u con nodos no visitados."
   ]
  },
  {
   "cell_type": "code",
   "execution_count": 9,
   "metadata": {},
   "outputs": [],
   "source": [
    "def get_ideal(G, V_, u):\n",
    "    \n",
    "    if V_[u]:\n",
    "        return list()\n",
    "    \n",
    "    V = V_.copy()\n",
    "    s = [u];  V[u] = 1\n",
    "    Q = deque([]); Q.append(u)\n",
    "    while Q:\n",
    "        u = Q.popleft()\n",
    "        for v in G.predecessors(u):\n",
    "            if not V[v]:\n",
    "                s.append(v)\n",
    "                V[v] = 1; Q.append(v)\n",
    "    \n",
    "    return s"
   ]
  },
  {
   "cell_type": "code",
   "execution_count": null,
   "metadata": {},
   "outputs": [],
   "source": [
    "def find_order(G, V, sample, s):\n",
    "    ans = []; Q = deque([]); Q.append(s)\n",
    "    while Q:\n",
    "        u = Q.popleft()\n",
    "        if u in sample:\n",
    "            ans.append(u)\n",
    "        for v in G.predecessors(u):\n",
    "            if not V[v]:\n",
    "                Q.append(v)\n",
    "    return ans"
   ]
  },
  {
   "cell_type": "markdown",
   "metadata": {},
   "source": [
    "## Funciones para algoritmo y búsqueda robusta"
   ]
  },
  {
   "cell_type": "code",
   "execution_count": null,
   "metadata": {},
   "outputs": [],
   "source": [
    "def get_size_robust(G, V_, node):\n",
    "    \n",
    "    N = len(V_)\n",
    "    \n",
    "    if V_[node]:\n",
    "        return 0\n",
    "    \n",
    "    if node == root:\n",
    "        return N - sum(V_)\n",
    "    \n",
    "    V = [0] * N\n",
    "    \n",
    "    V[root] = 1; Q = deque([root]);\n",
    "    while Q:\n",
    "        u = Q.popleft()\n",
    "        for v in G.predecessors(u):\n",
    "            if not V[v] and v != node:\n",
    "                V[v] = 1\n",
    "                Q.append(v)\n",
    "\n",
    "    return sum([1 for u in range(N) if V_[u] + V[u] == 0])"
   ]
  },
  {
   "cell_type": "code",
   "execution_count": null,
   "metadata": {},
   "outputs": [],
   "source": [
    "def get_ideal_robust(G, V_, node):\n",
    "    N = len(V_)\n",
    "    V = [0] * N\n",
    "    V[root] = 1\n",
    "    Q = deque([root])\n",
    "    while Q:\n",
    "        u = Q.popleft()\n",
    "        for v in G.predecessors(u):\n",
    "            if not V[v] and v != node:\n",
    "                V[v] = 1\n",
    "                Q.append(v)\n",
    "\n",
    "    return [i for i in range(N) if (V_[i] == 0 and V[i] == 0)]"
   ]
  },
  {
   "cell_type": "code",
   "execution_count": null,
   "metadata": {},
   "outputs": [],
   "source": [
    "def deactivate_robust(G, V_, node):\n",
    "    N = len(V_)\n",
    "    V = [0] * N\n",
    "    V[root] = 1; Q = deque([root]);\n",
    "    while Q:\n",
    "        u = Q.popleft()\n",
    "        for v in G.predecessors(u):\n",
    "            if not V[v] and v != node:\n",
    "                V[v] = 1\n",
    "                Q.append(v)\n",
    "\n",
    "    return [0 if V_[u] + V[u] == 0 else 1 for u in range(N)]"
   ]
  },
  {
   "cell_type": "code",
   "execution_count": null,
   "metadata": {},
   "outputs": [],
   "source": [
    "def add_visit_robust(G, V, node):\n",
    "    N = len(V)\n",
    "    V[node] = 1\n",
    "    I = get_ideal_robust(G, V, node)\n",
    "    return [1 if (i in I or V[i]) else 0 for i in range(N) ]"
   ]
  },
  {
   "cell_type": "code",
   "execution_count": null,
   "metadata": {},
   "outputs": [],
   "source": [
    "def get_size_weight_robust(G, W, V_, node):\n",
    "    N = len(V_)\n",
    "    \n",
    "    if V_[node]:\n",
    "        return 0 , 0\n",
    "    \n",
    "    if node == root:\n",
    "        return N - sum(V_), sum(W) - sum([W[i] for i in range(N) if V_[i]])\n",
    "    \n",
    "    V = [0] * N\n",
    "    \n",
    "    V[root] = 1; Q = deque([root]);\n",
    "    while Q:\n",
    "        u = Q.popleft()\n",
    "        for v in G.predecessors(u):\n",
    "            if not V[v] and v != node:\n",
    "                V[v] = 1\n",
    "                Q.append(v)\n",
    "                \n",
    "    I = [i for i in range(N) if (V_[i] == 0 and V[i] == 0)]\n",
    "    return sum([1 for i in I]), sum([W[i] for i in I])"
   ]
  },
  {
   "cell_type": "code",
   "execution_count": null,
   "metadata": {},
   "outputs": [],
   "source": [
    "def get_size_precalc_robust(G, W, V_, node):\n",
    "    \n",
    "    N = len(V_)\n",
    "    \n",
    "    if V_[node]:\n",
    "        return 0\n",
    "    \n",
    "    if W[node] <= 200:\n",
    "        return 1\n",
    "    \n",
    "    V = [0] * N\n",
    "    \n",
    "    s = 1; V[node] = 1\n",
    "    Q = deque([]); Q.append(root)\n",
    "    while Q:\n",
    "        u = Q.popleft()\n",
    "        for v in G.predecessors(u):\n",
    "            if not V[v] and v != node:\n",
    "                s += 1; V[v] = 1\n",
    "                Q.append(v)\n",
    "                \n",
    "    return sum([1 for i in range(N) if (V_[i] == 0 and V[i] == 0 and W[i] > 200) ])"
   ]
  },
  {
   "cell_type": "code",
   "execution_count": null,
   "metadata": {},
   "outputs": [],
   "source": []
  },
  {
   "cell_type": "code",
   "execution_count": null,
   "metadata": {},
   "outputs": [],
   "source": []
  },
  {
   "cell_type": "code",
   "execution_count": null,
   "metadata": {},
   "outputs": [],
   "source": []
  }
 ],
 "metadata": {
  "kernelspec": {
   "display_name": "Python 3",
   "language": "python",
   "name": "python3"
  },
  "language_info": {
   "codemirror_mode": {
    "name": "ipython",
    "version": 3
   },
   "file_extension": ".py",
   "mimetype": "text/x-python",
   "name": "python",
   "nbconvert_exporter": "python",
   "pygments_lexer": "ipython3",
   "version": "3.7.6"
  }
 },
 "nbformat": 4,
 "nbformat_minor": 4
}
