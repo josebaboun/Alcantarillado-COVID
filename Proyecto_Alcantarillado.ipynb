{
  "nbformat": 4,
  "nbformat_minor": 0,
  "metadata": {
    "colab": {
      "name": "Proyecto Alcantarillado.ipynb",
      "provenance": [],
      "collapsed_sections": []
    },
    "kernelspec": {
      "display_name": "Python 3",
      "name": "python3"
    }
  },
  "cells": [
    {
      "cell_type": "code",
      "metadata": {
        "id": "spVDRQ5RE_5X"
      },
      "source": [
        "import numpy as np\n",
        "import pandas as pd\n",
        "import matplotlib.pyplot as plt\n",
        "from matplotlib import pylab\n",
        "import networkx as nx\n",
        "from collections import deque"
      ],
      "execution_count": 1,
      "outputs": []
    },
    {
      "cell_type": "markdown",
      "metadata": {
        "id": "dIL3iiDZXHf6"
      },
      "source": [
        "Leeremos el grafo desde nuestro csv"
      ]
    },
    {
      "cell_type": "code",
      "metadata": {
        "colab": {
          "base_uri": "https://localhost:8080/"
        },
        "id": "lWuEcVHkXGTd",
        "outputId": "a767b0a2-cec2-475e-b0eb-80c84cfc740d"
      },
      "source": [
        "# Importamos nuestro drive\n",
        "from google.colab import drive\n",
        "drive.mount('/content/drive')"
      ],
      "execution_count": 2,
      "outputs": [
        {
          "output_type": "stream",
          "text": [
            "Mounted at /content/drive\n"
          ],
          "name": "stdout"
        }
      ]
    },
    {
      "cell_type": "code",
      "metadata": {
        "colab": {
          "base_uri": "https://localhost:8080/",
          "height": 204
        },
        "id": "VpKM8JV0XGbG",
        "outputId": "b17cab1e-241f-4e18-df99-c739281594ad"
      },
      "source": [
        "path = '/content/drive/My Drive/Proyecto Combinatorial COVID/corrected_graph.csv'\n",
        "csv_grafo = pd.read_csv(path)\n",
        "csv_grafo.head()\n",
        "#csv_grafo[csv_grafo['direccion'] == 9999]"
      ],
      "execution_count": 3,
      "outputs": [
        {
          "output_type": "execute_result",
          "data": {
            "text/html": [
              "<div>\n",
              "<style scoped>\n",
              "    .dataframe tbody tr th:only-of-type {\n",
              "        vertical-align: middle;\n",
              "    }\n",
              "\n",
              "    .dataframe tbody tr th {\n",
              "        vertical-align: top;\n",
              "    }\n",
              "\n",
              "    .dataframe thead th {\n",
              "        text-align: right;\n",
              "    }\n",
              "</style>\n",
              "<table border=\"1\" class=\"dataframe\">\n",
              "  <thead>\n",
              "    <tr style=\"text-align: right;\">\n",
              "      <th></th>\n",
              "      <th>Unnamed: 0</th>\n",
              "      <th>self</th>\n",
              "      <th>other</th>\n",
              "      <th>red_id</th>\n",
              "      <th>direccion</th>\n",
              "      <th>notas</th>\n",
              "    </tr>\n",
              "  </thead>\n",
              "  <tbody>\n",
              "    <tr>\n",
              "      <th>0</th>\n",
              "      <td>0</td>\n",
              "      <td>146338</td>\n",
              "      <td>146339</td>\n",
              "      <td>159250</td>\n",
              "      <td>0</td>\n",
              "      <td>Success</td>\n",
              "    </tr>\n",
              "    <tr>\n",
              "      <th>1</th>\n",
              "      <td>1</td>\n",
              "      <td>146339</td>\n",
              "      <td>139543</td>\n",
              "      <td>159251</td>\n",
              "      <td>0</td>\n",
              "      <td>Success</td>\n",
              "    </tr>\n",
              "    <tr>\n",
              "      <th>2</th>\n",
              "      <td>2</td>\n",
              "      <td>146340</td>\n",
              "      <td>139542</td>\n",
              "      <td>159252</td>\n",
              "      <td>0</td>\n",
              "      <td>Success</td>\n",
              "    </tr>\n",
              "    <tr>\n",
              "      <th>3</th>\n",
              "      <td>3</td>\n",
              "      <td>146340</td>\n",
              "      <td>146336</td>\n",
              "      <td>159253</td>\n",
              "      <td>0</td>\n",
              "      <td>Success</td>\n",
              "    </tr>\n",
              "    <tr>\n",
              "      <th>4</th>\n",
              "      <td>4</td>\n",
              "      <td>146337</td>\n",
              "      <td>146336</td>\n",
              "      <td>159254</td>\n",
              "      <td>0</td>\n",
              "      <td>Success</td>\n",
              "    </tr>\n",
              "  </tbody>\n",
              "</table>\n",
              "</div>"
            ],
            "text/plain": [
              "   Unnamed: 0    self   other  red_id  direccion    notas\n",
              "0           0  146338  146339  159250          0  Success\n",
              "1           1  146339  139543  159251          0  Success\n",
              "2           2  146340  139542  159252          0  Success\n",
              "3           3  146340  146336  159253          0  Success\n",
              "4           4  146337  146336  159254          0  Success"
            ]
          },
          "metadata": {
            "tags": []
          },
          "execution_count": 3
        }
      ]
    },
    {
      "cell_type": "markdown",
      "metadata": {
        "id": "CBp6wPLOdpFP"
      },
      "source": [
        "Instanciamos el grafo"
      ]
    },
    {
      "cell_type": "code",
      "metadata": {
        "id": "g_u9Zi74XG1t"
      },
      "source": [
        "G = nx.DiGraph()\n",
        "for index, row in csv_grafo.iterrows():\n",
        "  origin = row['self']\n",
        "  dest = row['other']\n",
        "  d = row['direccion']\n",
        "  if d != 9999:   # Ignoramos los nodos a los que les falta información\n",
        "    G.add_edge(origin, dest)\n",
        "for node in G.nodes:\n",
        "  G.nodes[node]['weight'] = 100 #Asumimos tener 100 personas por nodo en primera instancia"
      ],
      "execution_count": 4,
      "outputs": []
    },
    {
      "cell_type": "code",
      "metadata": {
        "id": "L1VwiSD1Ynof"
      },
      "source": [
        "#nx.draw(G, with_labels=True)\n",
        "#plt.show()"
      ],
      "execution_count": 5,
      "outputs": []
    },
    {
      "cell_type": "code",
      "metadata": {
        "id": "I7fUHeK4Yns4"
      },
      "source": [
        "def collapse_cicles(Graph, limit):\n",
        "  G = Graph.to_undirected()\n",
        "  cicles = nx.algorithms.cycles.cycle_basis(G)\n",
        "  ignored = list()\n",
        "  skipped = list()\n",
        "  new = len(G.nodes) + 1\n",
        "  \n",
        "  while cicles: \n",
        "    cicle = cicles.pop()\n",
        "    cicle_weight =  sum([G.nodes[i]['weight'] for i in cicle])\n",
        "    # Todos los nodos dentro de los ciclos\n",
        "    cicle_nodes = [item for sublist in cicles for item in sublist]\n",
        "\n",
        "    # obtemos los vecinos del ciclo y expandimos la lista\n",
        "    predecessors = [Graph.predecessors(i) for i in cicle]\n",
        "    predecessors = [item for sublist in predecessors for item in sublist]\n",
        "    successors = [Graph.successors(i) for i in cicle]\n",
        "    successors = [item for sublist in successors for item in sublist]\n",
        "\n",
        "    # Agregamos el nodo que reemplazará el ciclo. Agregamos las aristas correspondientes y su peso. \n",
        "    if cicle_weight <= limit:\n",
        "      G.add_node(new)\n",
        "      G.nodes[new]['weight'] = cicle_weight\n",
        "      Graph.add_node(new)\n",
        "      Graph.nodes[new]['weight'] = cicle_weight\n",
        "\n",
        "      # Agregamos los nodos que entran y que salen del ciclo\n",
        "      for node in predecessors:\n",
        "        if node not in cicle_nodes:\n",
        "          G.add_edge(node, new)\n",
        "          Graph.add_edge(node, new)\n",
        "      for node in successors:\n",
        "        if node not in cicle_nodes:\n",
        "          G.add_edge(new, node)\n",
        "          Graph.add_edge(new, node)\n",
        "      # Removemos los nodos del ciclo\n",
        "      for node in cicle:\n",
        "        G.remove_node(node)\n",
        "        Graph.remove_node(node)\n",
        "      new += 1\n",
        "    else:\n",
        "      ignored.append(cicle)\n",
        "      skipped.append(cicle_weight)\n",
        "\n",
        "    # Actualizamos la lista de ciclos ya que puede cambiar. Ignoramos aquellos por los que pasamos pero que eran \n",
        "    # muy numerosos para comprimirlos\n",
        "    cicles = [i for i in nx.algorithms.cycles.cycle_basis(G) if i not in ignored]\n",
        "    cicle_nodes = [item for sublist in cicles for item in sublist]\n",
        "  return Graph, skipped"
      ],
      "execution_count": 6,
      "outputs": []
    },
    {
      "cell_type": "code",
      "metadata": {
        "colab": {
          "base_uri": "https://localhost:8080/"
        },
        "id": "ubc-myjWpSge",
        "outputId": "7459a148-6b0b-4121-fe20-8178bd7dfff9"
      },
      "source": [
        "G1 = G.copy()\n",
        "print(f'nodos iniciales: {len(G1.nodes)}')\n",
        "corrected, skipped = collapse_cicles(G1, 5000)\n",
        "print(f'nodos finales: {len(corrected.nodes)}')\n",
        "print(f'cantidad de ciclos sin eliminar {len(skipped)}')"
      ],
      "execution_count": 7,
      "outputs": [
        {
          "output_type": "stream",
          "text": [
            "nodos iniciales: 24545\n",
            "nodos finales: 18900\n",
            "cantidad de ciclos sin eliminar 1740\n"
          ],
          "name": "stdout"
        }
      ]
    },
    {
      "cell_type": "markdown",
      "metadata": {
        "id": "K6eCLEqK-Z94"
      },
      "source": [
        "## Instancia San Pedro "
      ]
    },
    {
      "cell_type": "code",
      "metadata": {
        "colab": {
          "base_uri": "https://localhost:8080/",
          "height": 204
        },
        "id": "SScMxOWX-dpc",
        "outputId": "b73619cb-0889-4134-8be1-dcafb1f30547"
      },
      "source": [
        "path = '/content/drive/My Drive/Proyecto Combinatorial COVID/San_pedro_network_ids.csv'\n",
        "san_pedro_csv = pd.read_csv(path)\n",
        "san_pedro_csv.head()"
      ],
      "execution_count": 23,
      "outputs": [
        {
          "output_type": "execute_result",
          "data": {
            "text/html": [
              "<div>\n",
              "<style scoped>\n",
              "    .dataframe tbody tr th:only-of-type {\n",
              "        vertical-align: middle;\n",
              "    }\n",
              "\n",
              "    .dataframe tbody tr th {\n",
              "        vertical-align: top;\n",
              "    }\n",
              "\n",
              "    .dataframe thead th {\n",
              "        text-align: right;\n",
              "    }\n",
              "</style>\n",
              "<table border=\"1\" class=\"dataframe\">\n",
              "  <thead>\n",
              "    <tr style=\"text-align: right;\">\n",
              "      <th></th>\n",
              "      <th>Unnamed: 0</th>\n",
              "      <th>self</th>\n",
              "      <th>other</th>\n",
              "      <th>edge</th>\n",
              "    </tr>\n",
              "  </thead>\n",
              "  <tbody>\n",
              "    <tr>\n",
              "      <th>0</th>\n",
              "      <td>0</td>\n",
              "      <td>16381</td>\n",
              "      <td>16389</td>\n",
              "      <td>14981</td>\n",
              "    </tr>\n",
              "    <tr>\n",
              "      <th>1</th>\n",
              "      <td>1</td>\n",
              "      <td>16360</td>\n",
              "      <td>16372</td>\n",
              "      <td>14294</td>\n",
              "    </tr>\n",
              "    <tr>\n",
              "      <th>2</th>\n",
              "      <td>2</td>\n",
              "      <td>16285</td>\n",
              "      <td>16396</td>\n",
              "      <td>14295</td>\n",
              "    </tr>\n",
              "    <tr>\n",
              "      <th>3</th>\n",
              "      <td>3</td>\n",
              "      <td>16395</td>\n",
              "      <td>14079</td>\n",
              "      <td>14605</td>\n",
              "    </tr>\n",
              "    <tr>\n",
              "      <th>4</th>\n",
              "      <td>4</td>\n",
              "      <td>16410</td>\n",
              "      <td>16427</td>\n",
              "      <td>14857</td>\n",
              "    </tr>\n",
              "  </tbody>\n",
              "</table>\n",
              "</div>"
            ],
            "text/plain": [
              "   Unnamed: 0   self  other   edge\n",
              "0           0  16381  16389  14981\n",
              "1           1  16360  16372  14294\n",
              "2           2  16285  16396  14295\n",
              "3           3  16395  14079  14605\n",
              "4           4  16410  16427  14857"
            ]
          },
          "metadata": {
            "tags": []
          },
          "execution_count": 23
        }
      ]
    },
    {
      "cell_type": "code",
      "metadata": {
        "id": "7QzAUwVb-d7t"
      },
      "source": [
        "G_sp = nx.DiGraph()\n",
        "for index, row in san_pedro_csv.iterrows():\n",
        "  origin = row['self']\n",
        "  dest = row['other']\n",
        "  G_sp.add_edge(origin, dest)\n",
        "for node in G_sp.nodes:\n",
        "  G_sp.nodes[node]['weight'] = 100 #Asumimos tener 100 personas por nodo en primera instancia"
      ],
      "execution_count": 19,
      "outputs": []
    },
    {
      "cell_type": "code",
      "metadata": {
        "colab": {
          "base_uri": "https://localhost:8080/"
        },
        "id": "-nfKqx_S-eE4",
        "outputId": "de2fdd1c-5ffd-4757-d664-7054e69afc00"
      },
      "source": [
        "G2 = G_sp.copy()\n",
        "print(f'nodos iniciales: {len(G2.nodes)}')\n",
        "corrected_sp, skipped = collapse_cicles(G2, 2000)\n",
        "print(f'nodos finales: {len(corrected_sp.nodes)}')\n",
        "print(f'cantidad de ciclos sin eliminar {len(skipped)}')"
      ],
      "execution_count": 24,
      "outputs": [
        {
          "output_type": "stream",
          "text": [
            "nodos iniciales: 4604\n",
            "nodos finales: 4003\n",
            "cantidad de ciclos sin eliminar 22\n"
          ],
          "name": "stdout"
        }
      ]
    },
    {
      "cell_type": "code",
      "metadata": {
        "id": "GYX4IZ7BB3oR"
      },
      "source": [
        "#save_graph(corrected_sp,\"corrected_sp.pdf\")"
      ],
      "execution_count": 30,
      "outputs": []
    },
    {
      "cell_type": "markdown",
      "metadata": {
        "id": "MPSbGN9KLSf7"
      },
      "source": [
        "# Pruebas\n",
        "\n",
        "Partiremos instanciando un arbol arbitrario al que le agregaremos aristas extras con el fin de crear ciclos."
      ]
    },
    {
      "cell_type": "code",
      "metadata": {
        "colab": {
          "base_uri": "https://localhost:8080/",
          "height": 319
        },
        "id": "2m_1iUvlIZSc",
        "outputId": "35dd9826-950a-42e3-cdc2-264b4a3abe71"
      },
      "source": [
        "almost_tree = nx.generators.classic.binomial_tree(6)\n",
        "almost_tree.add_edge(7,8)\n",
        "almost_tree.add_edge(25,26)\n",
        "almost_tree.add_edge(51,52)\n",
        "for node in almost_tree.nodes():\n",
        "  almost_tree.nodes[node]['weight'] = 10\n",
        "nx.draw(almost_tree, with_labels=True)\n",
        "plt.show()"
      ],
      "execution_count": null,
      "outputs": [
        {
          "output_type": "display_data",
          "data": {
            "image/png": "[encoded data removed]",
            "text/plain": [
              "<Figure size 432x288 with 1 Axes>"
            ]
          },
          "metadata": {
            "tags": []
          }
        }
      ]
    },
    {
      "cell_type": "code",
      "metadata": {
        "colab": {
          "base_uri": "https://localhost:8080/",
          "height": 319
        },
        "id": "EL8XlUy9FrOv",
        "outputId": "73ce6bd3-b104-4c26-8ee8-cc31da3f98c9"
      },
      "source": [
        "cicles = nx.algorithms.cycles.cycle_basis(almost_tree)\n",
        "# Graficamos cuales son estos ciclos\n",
        "color_map = []\n",
        "for node in almost_tree:\n",
        "    if node in cicles[0]:\n",
        "        color_map.append('red')\n",
        "    elif node in cicles[1]:\n",
        "        color_map.append('yellow')\n",
        "    elif node in cicles[2]:\n",
        "        color_map.append('green')\n",
        "    else: \n",
        "        color_map.append('lightblue')      \n",
        "nx.draw(almost_tree, node_color=color_map, with_labels=True)\n",
        "plt.show()"
      ],
      "execution_count": null,
      "outputs": [
        {
          "output_type": "display_data",
          "data": {
            "image/png": "[encoded data removed]",
            "text/plain": [
              "<Figure size 432x288 with 1 Axes>"
            ]
          },
          "metadata": {
            "tags": []
          }
        }
      ]
    },
    {
      "cell_type": "code",
      "metadata": {
        "colab": {
          "base_uri": "https://localhost:8080/"
        },
        "id": "MhbTdqvRhvPJ",
        "outputId": "82b4eed7-e689-464f-9057-1481f489e415"
      },
      "source": [
        "cicles\n",
        "weights =  [almost_tree.nodes[i]['weight'] for i in cicles[1]]\n",
        "weights"
      ],
      "execution_count": null,
      "outputs": [
        {
          "output_type": "execute_result",
          "data": {
            "text/plain": [
              "[10, 10, 10]"
            ]
          },
          "metadata": {
            "tags": []
          },
          "execution_count": 40
        }
      ]
    },
    {
      "cell_type": "code",
      "metadata": {
        "colab": {
          "base_uri": "https://localhost:8080/",
          "height": 336
        },
        "id": "5SeCpTwbkGfx",
        "outputId": "48d88c96-5ca0-4c8f-b319-a7643890a049"
      },
      "source": [
        "# instanciamos el grafo\n",
        "almost_tree = nx.generators.classic.binomial_tree(6)\n",
        "almost_tree.add_edge(7,8)\n",
        "almost_tree.add_edge(25,26)\n",
        "almost_tree.add_edge(51,52)\n",
        "\n",
        "collapsed_tree = collapse_cicles(almost_tree)\n",
        "cicles = nx.algorithms.cycles.cycle_basis(collapsed_tree)\n",
        "print(f'número de ciclos: {len(cicles)}')\n",
        "\n",
        "# graficamos el resultado\n",
        "nx.draw(collapsed_tree, with_labels=True)\n",
        "plt.show()"
      ],
      "execution_count": null,
      "outputs": [
        {
          "output_type": "stream",
          "text": [
            "número de ciclos: 0\n"
          ],
          "name": "stdout"
        },
        {
          "output_type": "display_data",
          "data": {
            "image/png": "[encoded data removed]",
            "text/plain": [
              "<Figure size 432x288 with 1 Axes>"
            ]
          },
          "metadata": {
            "tags": []
          }
        }
      ]
    },
    {
      "cell_type": "code",
      "metadata": {
        "colab": {
          "base_uri": "https://localhost:8080/"
        },
        "id": "Q_p9FU_wlvei",
        "outputId": "74593f1c-df8d-48fc-d9cb-493c8ce42350"
      },
      "source": [
        "prueba = nx.path_graph(4)\n",
        "prueba.add_edge(3,1)\n",
        "collapsed = collapse_cicles(prueba)\n",
        "collapsed.edges"
      ],
      "execution_count": null,
      "outputs": [
        {
          "output_type": "execute_result",
          "data": {
            "text/plain": [
              "EdgeView([(0, 5)])"
            ]
          },
          "metadata": {
            "tags": []
          },
          "execution_count": 89
        }
      ]
    },
    {
      "cell_type": "code",
      "metadata": {
        "id": "lqaqamjHwdaj"
      },
      "source": [
        "dc = G = nx.DiGraph()\n",
        "dc.add_edge(1,2)\n",
        "dc.add_edge(2,3)\n",
        "dc.add_edge(3,4)\n",
        "dc.add_edge(4,2)\n",
        "for node in dc.nodes:\n",
        "  dc.nodes[node]['weight'] = 10\n",
        "#new = collapse_cicles(dc, 100)\n",
        "#new.nodes"
      ],
      "execution_count": null,
      "outputs": []
    },
    {
      "cell_type": "code",
      "metadata": {
        "id": "v9TPfzpKpQYj",
        "colab": {
          "base_uri": "https://localhost:8080/",
          "height": 0
        },
        "outputId": "8563c9ee-3910-4935-dc22-1054f5994beb"
      },
      "source": [
        "#nx.draw(corrected)\n",
        "#plt.savefig(\"graph.pdf\")\n",
        "def save_graph(graph,file_name):\n",
        "    #initialze Figure\n",
        "    plt.figure(num=None, figsize=(20, 20), dpi=80)\n",
        "    plt.axis('off')\n",
        "    fig = plt.figure(1)\n",
        "    pos = nx.spring_layout(graph)\n",
        "    nx.draw_networkx_nodes(graph,pos)\n",
        "    nx.draw_networkx_edges(graph,pos)\n",
        "    nx.draw_networkx_labels(graph,pos)\n",
        "\n",
        "    cut = 1.00\n",
        "    xmax = cut * max(xx for xx, yy in pos.values())\n",
        "    ymax = cut * max(yy for xx, yy in pos.values())\n",
        "    plt.xlim(0, xmax)\n",
        "    plt.ylim(0, ymax)\n",
        "\n",
        "    plt.savefig(file_name,bbox_inches=\"tight\")\n",
        "    pylab.close()\n",
        "    del fig\n",
        "\n",
        "#Assuming that the graph g has nodes and edges entered\n",
        "save_graph(dc,\"corrected.pdf\")"
      ],
      "execution_count": 29,
      "outputs": [
        {
          "output_type": "error",
          "ename": "NameError",
          "evalue": "ignored",
          "traceback": [
            "\u001b[0;31m---------------------------------------------------------------------------\u001b[0m",
            "\u001b[0;31mNameError\u001b[0m                                 Traceback (most recent call last)",
            "\u001b[0;32m<ipython-input-29-0ddfb639710e>\u001b[0m in \u001b[0;36m<module>\u001b[0;34m()\u001b[0m\n\u001b[1;32m     22\u001b[0m \u001b[0;34m\u001b[0m\u001b[0m\n\u001b[1;32m     23\u001b[0m \u001b[0;31m#Assuming that the graph g has nodes and edges entered\u001b[0m\u001b[0;34m\u001b[0m\u001b[0;34m\u001b[0m\u001b[0;34m\u001b[0m\u001b[0m\n\u001b[0;32m---> 24\u001b[0;31m \u001b[0msave_graph\u001b[0m\u001b[0;34m(\u001b[0m\u001b[0mdc\u001b[0m\u001b[0;34m,\u001b[0m\u001b[0;34m\"corrected.pdf\"\u001b[0m\u001b[0;34m)\u001b[0m\u001b[0;34m\u001b[0m\u001b[0;34m\u001b[0m\u001b[0m\n\u001b[0m",
            "\u001b[0;31mNameError\u001b[0m: name 'dc' is not defined"
          ]
        }
      ]
    },
    {
      "cell_type": "markdown",
      "metadata": {
        "id": "uplOQXUTAvTa"
      },
      "source": [
        "# Greedy"
      ]
    },
    {
      "cell_type": "code",
      "metadata": {
        "id": "eXwHVuXXjWY6"
      },
      "source": [
        "def get_size(G, V_, N, u):\n",
        "    \n",
        "    V = V_.copy()\n",
        "    \n",
        "    ans = 1;  V[u] = 1\n",
        "    Q = deque([]); Q.append(u)\n",
        "    while Q:\n",
        "        u = Q.popleft()\n",
        "        for v in G.predecessors(u):\n",
        "            if not V[v]:\n",
        "                ans += 1; V[v] = 1\n",
        "                Q.append(v)\n",
        "    \n",
        "    return ans\n",
        "\n",
        "def visit(G, V, u):\n",
        "    V[u] = 1\n",
        "    Q = deque([]); Q.append(u)\n",
        "    while Q:\n",
        "        u = Q.popleft()\n",
        "        for v in G.predecessors(u):\n",
        "            if not V[v]:\n",
        "                V[v] = 1\n",
        "                Q.append(v)\n",
        "    \n",
        "    return V"
      ],
      "execution_count": null,
      "outputs": []
    },
    {
      "cell_type": "code",
      "metadata": {
        "id": "x6tAcvuVY-aX"
      },
      "source": [
        "def greedyApp(G, N, K, limit):\n",
        "    \n",
        "    E = []\n",
        "    V = [0 for u in range(N)]\n",
        "    for u in range(N):\n",
        "        E.append((get_size(G, V, N, u), u))\n",
        "\n",
        "    S = set()\n",
        "    for e in E:\n",
        "        if e[0] < limit:\n",
        "            S.add(e[1])\n",
        "\n",
        "    ans = []\n",
        "    count = 0\n",
        "    while count < K:\n",
        "        maxv = 0; u = -1\n",
        "        for v in S:\n",
        "            s = get_size(G, V, N, v)\n",
        "            if s > maxv:\n",
        "                u = v\n",
        "                maxv = s\n",
        "\n",
        "        V = visit(G, V, u)\n",
        "        ans.append(u)\n",
        "        S.remove(u)\n",
        "        count += 1\n",
        "\n",
        "    return ans"
      ],
      "execution_count": null,
      "outputs": []
    },
    {
      "cell_type": "code",
      "metadata": {
        "id": "KNsvkRk3ZAg3"
      },
      "source": [
        "G = nx.DiGraph()\n",
        "\n",
        "S = set()\n",
        "for index, row in csv_grafo.iterrows():\n",
        "    origin = row['self']\n",
        "    dest = row['other']\n",
        "    d = row['direccion']\n",
        "    if d != 9999:\n",
        "        S.add(origin)\n",
        "        S.add(dest)\n",
        "\n",
        "S = list(S)\n",
        "id_ = {}; l = 0\n",
        "for u in S:\n",
        "    id_[u] = l\n",
        "    l += 1\n",
        "\n",
        "G = nx.DiGraph()\n",
        "for index, row in csv_grafo.iterrows():\n",
        "    origin = row['self']\n",
        "    dest = row['other']\n",
        "    d = row['direccion']\n",
        "    if d != 9999:\n",
        "        G.add_edge(id_[origin], id_[dest])\n",
        "for node in G.nodes:\n",
        "    G.nodes[node]['weight'] = 100\n",
        "    \n",
        "N = l"
      ],
      "execution_count": null,
      "outputs": []
    },
    {
      "cell_type": "code",
      "metadata": {
        "id": "WMKQyD35ZECI"
      },
      "source": [
        "ans = greedyApp(G, N, 10, 2000)\n",
        "print(ans)\n",
        "\n",
        "for u in ans:\n",
        "    print(get_size(G, [0 for v in range(N)], N, u))"
      ],
      "execution_count": null,
      "outputs": []
    }
  ]
}