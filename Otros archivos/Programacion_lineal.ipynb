{
 "cells": [
  {
   "cell_type": "markdown",
   "metadata": {},
   "source": [
    "Importamos librerías y funciones necesarias"
   ]
  },
  {
   "cell_type": "code",
   "execution_count": null,
   "metadata": {},
   "outputs": [],
   "source": [
    "import os\n",
    "import sys\n",
    "module_path = os.path.abspath(os.path.join('..'))\n",
    "if module_path not in sys.path:\n",
    "    sys.path.append(module_path)\n",
    "    \n",
    "from ipynb.fs.full.Funciones_basicas import *\n",
    "from ipynb.fs.full.Algoritmos import *\n",
    "from ipynb.fs.full.Visualizaciones import *"
   ]
  },
  {
   "cell_type": "code",
   "execution_count": 3,
   "metadata": {},
   "outputs": [],
   "source": [
    "from gurobipy import *\n",
    "import random"
   ]
  },
  {
   "cell_type": "markdown",
   "metadata": {},
   "source": [
    "Instanciamos el grafo"
   ]
  },
  {
   "cell_type": "code",
   "execution_count": 8,
   "metadata": {},
   "outputs": [],
   "source": [
    "path_geom = '../data/graph_geom_corrected_cycles.csv'\n",
    "geometry = gpd.read_file(path_geom, GEOM_POSSIBLE_NAMES=\"geometry\", KEEP_GEOM_COLUMNS=\"NO\")\n",
    "     \n",
    "path = '../data/corrected_dijkstra.csv'\n",
    "csv_grafo = pd.read_csv(path, sep=',')\n",
    "\n",
    "path_pesos = '../data/pesos_tapas.csv'\n",
    "pesos = pd.read_csv(path_pesos)\n",
    "\n",
    "out = {1003950, 15004, 15131, 1003744, 15190, 1003746, 13730, 1003167, 13731, 13732, 13733, 14062, 1003206, 16503, 13735, 16094, 16095}\n",
    "\n",
    "S = set()\n",
    "for index, row in csv_grafo.iterrows():\n",
    "    origin = row['self']\n",
    "    dest = row['other']\n",
    "    if origin not in out and dest not in out:\n",
    "        S.add(origin)\n",
    "        S.add(dest)\n",
    "\n",
    "S = list(S)\n",
    "id_ = {}; _id = {}; l = 0\n",
    "for u in S:\n",
    "    id_[u] = l; _id[l] = u\n",
    "    l += 1\n",
    "\n",
    "T = nx.DiGraph()\n",
    "for index, row in csv_grafo.iterrows():\n",
    "    origin = row['self']\n",
    "    dest = row['other']\n",
    "    if origin not in out and dest not in out:\n",
    "        T.add_edge(id_[origin], id_[dest])\n",
    "    \n",
    "N = l\n",
    "\n",
    "W = [0] * N\n",
    "\n",
    "for u in range(N):\n",
    "    if pesos[pesos['ID_tapa'] == _id[u]].shape[0] >= 1:  ## tomamos primera columna con el id, si no hay peso = 0\n",
    "        W[u] = pesos[pesos['ID_tapa'] == _id[u]].iloc[0]['per_predio']"
   ]
  },
  {
   "cell_type": "markdown",
   "metadata": {},
   "source": [
    "Definimos conjuntos e instanciamos el modelo"
   ]
  },
  {
   "cell_type": "code",
   "execution_count": 10,
   "metadata": {},
   "outputs": [],
   "source": [
    "k = 12\n",
    "r = 744\n",
    "K_ = range(1,k)"
   ]
  },
  {
   "cell_type": "code",
   "execution_count": 9,
   "metadata": {},
   "outputs": [],
   "source": [
    "V = list(T.nodes())\n",
    "I = {(u, v): u in get_ideal(T, [0] * N, v) for u in V for v in V}\n",
    "K_ = range(1,k)"
   ]
  },
  {
   "cell_type": "code",
   "execution_count": 12,
   "metadata": {},
   "outputs": [],
   "source": [
    "#model = gurobipy.Model(\"Muestreo\")"
   ]
  },
  {
   "cell_type": "markdown",
   "metadata": {},
   "source": [
    "Definimos las variables"
   ]
  },
  {
   "cell_type": "code",
   "execution_count": null,
   "metadata": {},
   "outputs": [],
   "source": [
    "x = model.addVars(V, K_, vtype = GRB.BINARY, name =\"Nodos raíces\")\n",
    "alpha_hat = model.addVars(K_, K_, vtype = GRB.BINARY, name =\"Ideal hijo\")\n",
    "alpha = model.addVars(K_, K_, vtype = GRB.BINARY, name =\"Ideal hijo directo\")"
   ]
  },
  {
   "cell_type": "markdown",
   "metadata": {},
   "source": [
    "Detallamos las restricciones"
   ]
  },
  {
   "cell_type": "code",
   "execution_count": null,
   "metadata": {},
   "outputs": [],
   "source": [
    "model.addConstrs((quicksum(x[v,k]  for v in V) == 1 for k in K_), name = \"R1\")\n",
    "model.addConstrs((quicksum(x[v,k]  for k in K_) <= 1 for v in V), name = \"R2\")\n",
    "model.addConstrs((alpha_hat[r,k] >= (x[v,r] + (x[u,k] + I[v,u] - 2 for v in V for u in V for r in K_ for k in K_ ), name = \"R3\")"
   ]
  },
  {
   "cell_type": "code",
   "execution_count": null,
   "metadata": {},
   "outputs": [],
   "source": [
    "model.addConstrs((alpha[r,t] <= 2 - (alpha_hat[r,k] + alpha_hat[k,t]) for r in K_ for k in K_ for t in K_), name = \"R4\")\n",
    "model.addConstrs((quicksum(quicksum(alpha[k,t]  for k in K_) for t in K_) == k - 1), name = \"R5\")\n",
    "model.addConstrs((x[r,1] == 1), name = \"R6\")"
   ]
  },
  {
   "cell_type": "markdown",
   "metadata": {},
   "source": [
    "Definimos la función objetivo"
   ]
  },
  {
   "cell_type": "code",
   "execution_count": null,
   "metadata": {},
   "outputs": [],
   "source": [
    "obj = quicksum(alpha[i,t]*x[i,t] + quicksum(c[i,j]*y[i,j,t] for j in M_) for i in N_ for t in T_)\n",
    "model.setObjective(obj, GRB.MINIMIZE)"
   ]
  },
  {
   "cell_type": "code",
   "execution_count": null,
   "metadata": {},
   "outputs": [],
   "source": [
    "model.optimize()"
   ]
  }
 ],
 "metadata": {
  "kernelspec": {
   "display_name": "Python 3",
   "language": "python",
   "name": "python3"
  },
  "language_info": {
   "codemirror_mode": {
    "name": "ipython",
    "version": 3
   },
   "file_extension": ".py",
   "mimetype": "text/x-python",
   "name": "python",
   "nbconvert_exporter": "python",
   "pygments_lexer": "ipython3",
   "version": "3.7.6"
  }
 },
 "nbformat": 4,
 "nbformat_minor": 4
}
