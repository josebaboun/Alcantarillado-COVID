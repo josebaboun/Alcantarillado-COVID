{
 "cells": [
  {
   "cell_type": "code",
   "execution_count": 2,
   "metadata": {},
   "outputs": [],
   "source": [
    "import os\n",
    "import sys\n",
    "module_path = os.path.abspath(os.path.join('..'))\n",
    "if module_path not in sys.path:\n",
    "    sys.path.append(module_path)\n",
    "    \n",
    "from ipynb.fs.full.Funciones_basicas import *\n",
    "from ipynb.fs.full.Algoritmos import *\n",
    "from ipynb.fs.full.Visualizaciones import *"
   ]
  },
  {
   "cell_type": "code",
   "execution_count": 3,
   "metadata": {},
   "outputs": [],
   "source": [
    "from gurobipy import *\n",
    "import random"
   ]
  },
  {
   "cell_type": "code",
   "execution_count": 3,
   "metadata": {},
   "outputs": [],
   "source": [
    "def quality_partition(G, solution, Max = True, Norm_2 = True):\n",
    "    N = len(G.nodes()); M = 1e10; root = 743\n",
    "    V = [0] * 10 * N\n",
    "    ordered_solution = find_order(G, V, solution.copy(), root)\n",
    "    sizes = get_sizes_partition(G, ordered_solution[::-1])\n",
    "\n",
    "    max_partition = max(sizes) if Max else 0\n",
    "    norm_2 = sum([i**2 for i in sizes]) if Norm_2 else 0\n",
    "    \n",
    "    if not Norm_2:\n",
    "        return max_partition\n",
    "    return M * max_partition + norm_2\n",
    "\n",
    "def get_sizes_partition(G, solution_):\n",
    "    N = len(G.nodes()); solution = solution_; root = 743\n",
    "    V = [0] * 10 * N\n",
    "    sizes = []\n",
    "    if root not in solution:\n",
    "        solution.append(root)\n",
    "    for u in solution:\n",
    "        sizes.append(get_size(G, V, u))\n",
    "        V, _ = visit(G, V, u)\n",
    "    #print(sizes)\n",
    "    return sizes\n",
    "\n",
    "def find_order(G, V, sample_, s):\n",
    "    sample = sample_.copy()\n",
    "    ans = []; Q = deque([]); Q.append(s)\n",
    "    while Q:\n",
    "        u = Q.popleft()\n",
    "        if u in sample:\n",
    "            ans.append(u)\n",
    "            sample.remove(u)\n",
    "        for v in G.predecessors(u):\n",
    "            if not V[v]:\n",
    "                Q.append(v)\n",
    "    return ans"
   ]
  },
  {
   "cell_type": "markdown",
   "metadata": {},
   "source": [
    "Instanciamos el grafo"
   ]
  },
  {
   "cell_type": "code",
   "execution_count": 4,
   "metadata": {},
   "outputs": [],
   "source": [
    "path_geom = '../data/graph_geom_corrected_cycles.csv'\n",
    "geometry = gpd.read_file(path_geom, GEOM_POSSIBLE_NAMES=\"geometry\", KEEP_GEOM_COLUMNS=\"NO\")\n",
    "     \n",
    "path = '../data/corrected_dijkstra.csv'\n",
    "csv_grafo = pd.read_csv(path, sep=',')\n",
    "\n",
    "path_pesos = '../data/pesos_tapas.csv'\n",
    "pesos = pd.read_csv(path_pesos)\n",
    "\n",
    "out = {1003950, 15004, 15131, 1003744, 15190, 1003746, 13730, 1003167, 13731, 13732, 13733, 14062, 1003206, 16503, 13735, 16094, 16095}\n",
    "\n",
    "S = set()\n",
    "for index, row in csv_grafo.iterrows():\n",
    "    origin = row['self']\n",
    "    dest = row['other']\n",
    "    if origin not in out and dest not in out:\n",
    "        S.add(origin)\n",
    "        S.add(dest)\n",
    "\n",
    "S = list(S)\n",
    "id_ = {}; _id = {}; l = 0\n",
    "for u in S:\n",
    "    id_[u] = l; _id[l] = u\n",
    "    l += 1\n",
    "\n",
    "Tree = nx.DiGraph()\n",
    "for index, row in csv_grafo.iterrows():\n",
    "    origin = row['self']\n",
    "    dest = row['other']\n",
    "    if origin not in out and dest not in out:\n",
    "        Tree.add_edge(id_[origin], id_[dest])\n",
    "        \n",
    "G = nx.DiGraph()\n",
    "for index, row in csv_grafo.iterrows():\n",
    "    origin = row['self']\n",
    "    dest = row['other']\n",
    "    if origin not in out and dest not in out:\n",
    "        G.add_edge(id_[origin], id_[dest])\n",
    "    \n",
    "N = l\n",
    "\n",
    "W = [0] * N\n",
    "\n",
    "for u in range(N):\n",
    "    if pesos[pesos['ID_tapa'] == _id[u]].shape[0] >= 1:  ## tomamos primera columna con el id, si no hay peso = 0\n",
    "        W[u] = pesos[pesos['ID_tapa'] == _id[u]].iloc[0]['per_predio']"
   ]
  },
  {
   "cell_type": "markdown",
   "metadata": {},
   "source": [
    "## Funciones útiles para procesar soluciones"
   ]
  },
  {
   "cell_type": "code",
   "execution_count": 5,
   "metadata": {},
   "outputs": [],
   "source": [
    "def check_solution(V, x, y, check_l = False):\n",
    "    correct_solution = True\n",
    "    for i in V:\n",
    "        if x[i].x == 1:\n",
    "            for node in V:\n",
    "                if y[node, i].x == 1 and not node in I[i]:\n",
    "                    print('Houston tenemos un problema')\n",
    "                    correct_solution = False\n",
    "    if check_l:\n",
    "        if False in [x[l].x <= 1 - y[j,i].x for j in V for i in V for l in Path[j,i] if l != i]:\n",
    "                   correct_solution = False\n",
    "    print(f'Solution is correct: {correct_solution} ')\n",
    "                    \n",
    "def get_solution(V,x, y, Z, return_y = False):\n",
    "    print(f'Ideal de mayor tamano: {Z.x}')\n",
    "    sol = list()\n",
    "    for i in V:\n",
    "        if x[i].x == 1:\n",
    "            sol.append(i)\n",
    "    if return_y:\n",
    "        asigments = []\n",
    "        for i in sol:\n",
    "            for node in V:\n",
    "                if y[node, i].x == 1:\n",
    "                    asigments.append((node, i))\n",
    "        return sol, asigments\n",
    "    return sol"
   ]
  },
  {
   "cell_type": "markdown",
   "metadata": {},
   "source": [
    "## Prueba con diferentes grafos"
   ]
  },
  {
   "cell_type": "markdown",
   "metadata": {},
   "source": [
    "### Grafo camino"
   ]
  },
  {
   "cell_type": "code",
   "execution_count": 41,
   "metadata": {},
   "outputs": [],
   "source": [
    "T = nx.path_graph(20, create_using=nx.DiGraph()).reverse()\n",
    "K = 2\n",
    "root = 0\n",
    "V = list(T.nodes())\n",
    "N = len(V)\n",
    "#I = {(u, v): u in get_ideal(T, [0] * N, v) and u!=v for u in V for v in V}\n",
    "I = dict()\n",
    "P = dict()\n",
    "for v in V:\n",
    "    I[v] = get_ideal(T, [0] * 500 * N, v)\n",
    "    for u in V:\n",
    "        try:\n",
    "            P[v,u] = nx.shortest_path(T, source = v, target = u)\n",
    "        except:\n",
    "            P[v,u] = list()"
   ]
  },
  {
   "cell_type": "markdown",
   "metadata": {},
   "source": [
    "### Arbol de instancia con máxima profundidad"
   ]
  },
  {
   "cell_type": "code",
   "execution_count": 5,
   "metadata": {},
   "outputs": [
    {
     "name": "stdout",
     "output_type": "stream",
     "text": [
      "103 nodos en el grafo\n"
     ]
    }
   ],
   "source": [
    "T = nx.DiGraph()\n",
    "max_depth = 18\n",
    "T = Tree.subgraph([node for node in list(Tree.nodes()) if nx.shortest_path_length(Tree, source = node, target = 744) <= max_depth])\n",
    "K = 8\n",
    "root = 744\n",
    "V = list(T.nodes())\n",
    "N = len(V)\n",
    "print(f'{N} nodos en el grafo')"
   ]
  },
  {
   "cell_type": "code",
   "execution_count": 6,
   "metadata": {},
   "outputs": [],
   "source": [
    "I = dict()\n",
    "Path = dict()\n",
    "for u in V:\n",
    "    I[u] = get_ideal(T, [0] * 500 * N, u)\n",
    "    for v in V:\n",
    "        if v not in I[u]:\n",
    "            Path[v,u] = list()\n",
    "        else:\n",
    "            Path[v,u] = nx.shortest_path(T, source = v, target = u)"
   ]
  },
  {
   "cell_type": "code",
   "execution_count": 12,
   "metadata": {},
   "outputs": [],
   "source": [
    "d = dict()\n",
    "for i in V:\n",
    "    for j in V:\n",
    "        if Path[i,j] != list():\n",
    "            d[i,j] = len(Path[i,j])\n",
    "        else:\n",
    "            d[i,j] = N"
   ]
  },
  {
   "cell_type": "markdown",
   "metadata": {},
   "source": [
    "Instanciación del modelo"
   ]
  },
  {
   "cell_type": "code",
   "execution_count": 14,
   "metadata": {},
   "outputs": [
    {
     "name": "stdout",
     "output_type": "stream",
     "text": [
      "Gurobi Optimizer version 9.0.3 build v9.0.3rc0 (mac64)\n",
      "Optimize a model with 14929 rows, 10713 columns and 32929 nonzeros\n",
      "Model fingerprint: 0xc4ddecf4\n",
      "Variable types: 1 continuous, 10712 integer (10712 binary)\n",
      "Coefficient statistics:\n",
      "  Matrix range     [1e+00, 1e+00]\n",
      "  Objective range  [1e+00, 1e+00]\n",
      "  Bounds range     [1e+00, 1e+00]\n",
      "  RHS range        [1e+00, 8e+00]\n",
      "Found heuristic solution: objective 78.0000000\n",
      "Presolve removed 11890 rows and 9074 columns\n",
      "Presolve time: 0.14s\n",
      "Presolved: 3039 rows, 1639 columns, 19215 nonzeros\n",
      "Variable types: 0 continuous, 1639 integer (1638 binary)\n",
      "\n",
      "Root relaxation: objective 3.140968e+00, 2360 iterations, 0.14 seconds\n",
      "\n",
      "    Nodes    |    Current Node    |     Objective Bounds      |     Work\n",
      " Expl Unexpl |  Obj  Depth IntInf | Incumbent    BestBd   Gap | It/Node Time\n",
      "\n",
      "     0     0    3.14097    0  843   78.00000    3.14097  96.0%     -    0s\n",
      "H    0     0                      72.0000000    3.14097  95.6%     -    0s\n",
      "H    0     0                      42.0000000    3.14097  92.5%     -    0s\n",
      "H    0     0                      37.0000000    3.14097  91.5%     -    0s\n",
      "     0     0    4.00000    0  748   37.00000    4.00000  89.2%     -    1s\n",
      "     0     0    4.00000    0  706   37.00000    4.00000  89.2%     -    1s\n",
      "     0     0    5.95023    0  754   37.00000    5.95023  83.9%     -    1s\n",
      "H    0     0                      32.0000000    5.95023  81.4%     -    1s\n",
      "H    0     0                      27.0000000    5.95023  78.0%     -    1s\n",
      "     0     0    6.06096    0  766   27.00000    6.06096  77.6%     -    1s\n",
      "     0     0    7.00000    0  740   27.00000    7.00000  74.1%     -    2s\n",
      "H    0     0                      19.0000000    7.00000  63.2%     -    2s\n",
      "     0     0    7.58577    0  739   19.00000    7.58577  60.1%     -    2s\n",
      "     0     0    7.77609    0  760   19.00000    7.77609  59.1%     -    2s\n",
      "     0     0    7.85083    0  758   19.00000    7.85083  58.7%     -    2s\n",
      "H    0     0                      18.0000000    7.85083  56.4%     -    3s\n",
      "     0     0   10.00000    0  732   18.00000   10.00000  44.4%     -    3s\n",
      "     0     0   10.00000    0  732   18.00000   10.00000  44.4%     -    3s\n",
      "     0     1   10.00000    0  732   18.00000   10.00000  44.4%     -    3s\n",
      "H  100    29                      17.0000000   10.00000  41.2%  97.9    4s\n",
      "   211    68 infeasible   15        17.00000   10.00000  41.2%  79.6    5s\n",
      "H  213    68                      16.0000000   10.00000  37.5%  80.6    5s\n",
      "\n",
      "Cutting planes:\n",
      "  Gomory: 8\n",
      "  Cover: 1\n",
      "  Implied bound: 19\n",
      "  Clique: 93\n",
      "  MIR: 2\n",
      "  Zero half: 2\n",
      "  RLT: 40\n",
      "  Relax-and-lift: 10\n",
      "\n",
      "Explored 702 nodes (33816 simplex iterations) in 5.81 seconds\n",
      "Thread count was 8 (of 8 available processors)\n",
      "\n",
      "Solution count 10: 16 17 18 ... 78\n",
      "\n",
      "Optimal solution found (tolerance 1.00e-04)\n",
      "Best objective 1.600000000000e+01, best bound 1.600000000000e+01, gap 0.0000%\n"
     ]
    }
   ],
   "source": [
    "model = gurobipy.Model(\"Muestreo\")\n",
    "x = model.addVars(V, vtype = GRB.BINARY, name =\"Nodos raices\")\n",
    "Z = model.addVar(vtype = GRB.CONTINUOUS , obj=1, name =\"Ideal de mayor tamano\")\n",
    "y = model.addVars(V, V, vtype = GRB.BINARY, name =\"Asignacion de nodo a muestra\")\n",
    "\n",
    "\n",
    "model.addConstr((quicksum(x[i] for i in V) == K), name = \"R1\")\n",
    "model.addConstrs((y[j,i] <= x[i] for i in V for j in I[i] ), name = \"R2\")\n",
    "model.addConstrs((quicksum(y[i,j] for j in Path[i, root]) == 1 for i in V), name = \"R3\")\n",
    "model.addConstrs((x[l] <= 1 - y[j,i] for j in V for i in V for l in Path[j,i] if l != i), name = \"R4\")\n",
    "#model.addConstrs((y[i,j] <= x[i]*d[i,j] + (1-x[i]) * N for i in V for j in V))\n",
    "model.addConstrs((quicksum(y[j,i] for j in I[i]) <= Z for i in V), name = \"R5\")\n",
    "model.addConstr((x[root] == 1), name = \"Root\")\n",
    "\n",
    "\n",
    "model.setObjective(Z, GRB.MINIMIZE)\n",
    "model.update()\n",
    "model.optimize()"
   ]
  },
  {
   "cell_type": "code",
   "execution_count": 27,
   "metadata": {},
   "outputs": [
    {
     "name": "stdout",
     "output_type": "stream",
     "text": [
      "Solution is correct: True \n",
      "Ideal de mayor tamano: 24.0\n"
     ]
    },
    {
     "data": {
      "text/plain": [
       "[628, 2163, 744, 2319, 823, 913, 1431, 1433]"
      ]
     },
     "execution_count": 27,
     "metadata": {},
     "output_type": "execute_result"
    }
   ],
   "source": [
    "#model.printAttr(\"x\")\n",
    "check_solution(V,x,y)\n",
    "get_solution(V,x,y, Z)"
   ]
  },
  {
   "cell_type": "markdown",
   "metadata": {},
   "source": [
    "## Implementación alternativa"
   ]
  },
  {
   "cell_type": "code",
   "execution_count": 56,
   "metadata": {},
   "outputs": [],
   "source": [
    "T = nx.path_graph(20, create_using=nx.DiGraph()).reverse()\n",
    "K = 3\n",
    "root = 0\n",
    "V = list(T.nodes())\n",
    "N = len(V)\n",
    "#I = {(u, v): u in get_ideal(T, [0] * N, v) and u!=v for u in V for v in V}\n",
    "I = dict()\n",
    "P = dict()\n",
    "Path = dict()\n",
    "for u in V:\n",
    "    I[u] = get_ideal(T, [0] * 500 * N, u)\n",
    "    for v in V:\n",
    "        if v not in I[u]:\n",
    "            P[v,u] = N**10\n",
    "            Path[v,u] = list()\n",
    "        else:\n",
    "            Path[v,u] = nx.shortest_path(T, source = v, target = u)\n",
    "            P[v,u] = len(Path[v,u]) - 1 "
   ]
  },
  {
   "cell_type": "code",
   "execution_count": 6,
   "metadata": {},
   "outputs": [
    {
     "name": "stdout",
     "output_type": "stream",
     "text": [
      "176 nodos en el grafo\n"
     ]
    }
   ],
   "source": [
    "T = nx.DiGraph()\n",
    "max_depth = 20\n",
    "T = Tree.subgraph([node for node in list(Tree.nodes()) if nx.shortest_path_length(Tree, source = node, target = 744) <= max_depth])\n",
    "K = 8\n",
    "root = 744\n",
    "V = list(T.nodes())\n",
    "N = len(V)\n",
    "print(f'{N} nodos en el grafo')\n"
   ]
  },
  {
   "cell_type": "code",
   "execution_count": 7,
   "metadata": {},
   "outputs": [],
   "source": [
    "I = dict()\n",
    "P = dict()\n",
    "Path = dict()\n",
    "eps = 0.01\n",
    "for u in V:\n",
    "    I[u] = get_ideal(T, [0] * 500 * N, u)\n",
    "    for v in V:\n",
    "        if v not in I[u]:\n",
    "            P[v,u] = N**10\n",
    "            Path[v,u] = list()\n",
    "        else:\n",
    "            Path[v,u] = nx.shortest_path(T, source = v, target = u)\n",
    "            P[v,u] = len(Path[v,u]) + eps"
   ]
  },
  {
   "cell_type": "code",
   "execution_count": 166,
   "metadata": {},
   "outputs": [
    {
     "name": "stdout",
     "output_type": "stream",
     "text": [
      "Gurobi Optimizer version 9.0.3 build v9.0.3rc0 (mac64)\n",
      "Optimize a model with 3488 rows, 31153 columns and 12889 nonzeros\n",
      "Model fingerprint: 0xe97d1352\n",
      "Variable types: 1 continuous, 31152 integer (31152 binary)\n",
      "Coefficient statistics:\n",
      "  Matrix range     [1e+00, 1e+00]\n",
      "  Objective range  [3e-01, 9e+21]\n",
      "  Bounds range     [1e+00, 1e+00]\n",
      "  RHS range        [1e+00, 8e+00]\n",
      "Warning: Model contains large objective coefficients\n",
      "         Consider reformulating model or setting NumericFocus parameter\n",
      "         to avoid numerical issues.\n",
      "Presolve removed 238 rows and 27845 columns\n",
      "Presolve time: 0.10s\n",
      "Presolved: 3250 rows, 3308 columns, 12413 nonzeros\n",
      "Variable types: 0 continuous, 3308 integer (3307 binary)\n",
      "Found heuristic solution: objective 754.5280000\n",
      "Found heuristic solution: objective 405.3280000\n",
      "\n",
      "Root relaxation: objective 2.548561e+02, 2045 iterations, 0.13 seconds\n",
      "\n",
      "    Nodes    |    Current Node    |     Objective Bounds      |     Work\n",
      " Expl Unexpl |  Obj  Depth IntInf | Incumbent    BestBd   Gap | It/Node Time\n",
      "\n",
      "     0     0  254.85605    0  340  405.32800  254.85605  37.1%     -    0s\n",
      "H    0     0                     362.6280000  254.85605  29.7%     -    0s\n",
      "H    0     0                     327.1280000  254.85605  22.1%     -    0s\n",
      "H    0     0                     307.3280000  254.85605  17.1%     -    0s\n",
      "H    0     0                     277.6280000  254.85605  8.20%     -    0s\n",
      "     0     0  255.91836    0  379  277.62800  255.91836  7.82%     -    0s\n",
      "     0     0  255.98581    0  381  277.62800  255.98581  7.80%     -    0s\n",
      "     0     0  255.98581    0  381  277.62800  255.98581  7.80%     -    0s\n",
      "     0     0  256.31775    0  375  277.62800  256.31775  7.68%     -    1s\n",
      "     0     0  257.00161    0  371  277.62800  257.00161  7.43%     -    1s\n",
      "     0     0  257.20296    0  372  277.62800  257.20296  7.36%     -    1s\n",
      "H    0     0                     270.2280000  257.20296  4.82%     -    1s\n",
      "H    0     0                     270.0280000  257.20296  4.75%     -    1s\n",
      "     0     0  257.20471    0  373  270.02800  257.20471  4.75%     -    1s\n",
      "     0     0  257.20730    0  373  270.02800  257.20730  4.75%     -    1s\n",
      "     0     0  257.20730    0  373  270.02800  257.20730  4.75%     -    1s\n",
      "     0     0  257.20730    0  340  270.02800  257.20730  4.75%     -    2s\n",
      "     0     0  257.20730    0  370  270.02800  257.20730  4.75%     -    2s\n",
      "     0     0  257.20730    0  371  270.02800  257.20730  4.75%     -    2s\n",
      "     0     0  257.20730    0  369  270.02800  257.20730  4.75%     -    2s\n",
      "     0     0  257.26504    0  373  270.02800  257.26504  4.73%     -    2s\n",
      "     0     0  257.26694    0  370  270.02800  257.26694  4.73%     -    2s\n",
      "     0     0  257.45693    0  371  270.02800  257.45693  4.66%     -    2s\n",
      "     0     0  257.46205    0  373  270.02800  257.46205  4.65%     -    2s\n",
      "     0     0  257.47221    0  373  270.02800  257.47221  4.65%     -    2s\n",
      "     0     0  257.47221    0  373  270.02800  257.47221  4.65%     -    3s\n",
      "     0     2  257.47221    0  373  270.02800  257.47221  4.65%     -    3s\n",
      "\n",
      "Cutting planes:\n",
      "  Gomory: 3\n",
      "  MIR: 4\n",
      "  Zero half: 4\n",
      "  Mod-K: 2\n",
      "  RLT: 3\n",
      "\n",
      "Explored 57 nodes (7071 simplex iterations) in 3.53 seconds\n",
      "Thread count was 4 (of 4 available processors)\n",
      "\n",
      "Solution count 8: 270.028 270.228 277.628 ... 754.528\n",
      "\n",
      "Optimal solution found (tolerance 1.00e-04)\n",
      "Best objective 2.700280000000e+02, best bound 2.700280000000e+02, gap 0.0000%\n"
     ]
    }
   ],
   "source": [
    "model = gurobipy.Model(\"Muestreo\")\n",
    "x = model.addVars(V, vtype = GRB.BINARY, name =\"Nodos raices\")\n",
    "Z = model.addVar(vtype = GRB.CONTINUOUS, obj=1,  name =\"Ideal de mayor tamano\")\n",
    "y = model.addVars(V, V, vtype = GRB.BINARY, name =\"Asignacion de nodo a muestra\")\n",
    "\n",
    "model.addConstr((quicksum(x[i] for i in V) == K), name = \"R1\")\n",
    "model.addConstrs((y[j,i] <= x[i] for i in V for j in I[i] ), name = \"R2\")\n",
    "model.addConstrs((quicksum(y[i,j] for j in Path[i, root]) == 1 for i in V), name = \"R3\")\n",
    "model.addConstrs((quicksum(y[j,i] for j in I[i]) <= Z for i in V), name = \"R5\")\n",
    "model.addConstr((x[root] == 1), name = \"Root\")\n",
    "\n",
    "alpha = 0.3\n",
    "M = alpha * quicksum(quicksum(P[i,j]*y[i,j] for j in V) for i in V ) + Z\n",
    "model.setObjective(M, GRB.MINIMIZE)\n",
    "model.update()\n",
    "model.optimize()"
   ]
  },
  {
   "cell_type": "code",
   "execution_count": 167,
   "metadata": {},
   "outputs": [
    {
     "name": "stdout",
     "output_type": "stream",
     "text": [
      "Solution is correct: False \n",
      "Ideal de mayor tamano: 34.0\n"
     ]
    }
   ],
   "source": [
    "check_solution(V, x, y, check_l = True)\n",
    "solution_alternative, asigments = get_solution(V,x, y, Z, True)"
   ]
  },
  {
   "cell_type": "markdown",
   "metadata": {},
   "source": [
    "## warm start para la formulación original?"
   ]
  },
  {
   "cell_type": "code",
   "execution_count": 120,
   "metadata": {},
   "outputs": [
    {
     "name": "stdout",
     "output_type": "stream",
     "text": [
      "Gurobi Optimizer version 9.0.3 build v9.0.3rc0 (mac64)\n",
      "Optimize a model with 3966 rows, 1807 columns and 8887 nonzeros\n",
      "Model fingerprint: 0xb0f3a641\n",
      "Variable types: 1 continuous, 1806 integer (1806 binary)\n",
      "Coefficient statistics:\n",
      "  Matrix range     [1e+00, 1e+00]\n",
      "  Objective range  [1e+00, 1e+00]\n",
      "  Bounds range     [1e+00, 1e+00]\n",
      "  RHS range        [1e+00, 8e+00]\n",
      "\n",
      "Warning: Completing partial solution with 1798 unfixed non-continuous variables out of 1806\n",
      "User MIP start produced solution with objective 26 (0.01s)\n",
      "Loaded user MIP start with objective 26\n",
      "\n",
      "Presolve removed 3021 rows and 1287 columns\n",
      "Presolve time: 0.17s\n",
      "Presolved: 945 rows, 520 columns, 5274 nonzeros\n",
      "Variable types: 0 continuous, 520 integer (519 binary)\n",
      "\n",
      "Root relaxation: objective 1.901959e+00, 502 iterations, 0.04 seconds\n",
      "\n",
      "    Nodes    |    Current Node    |     Objective Bounds      |     Work\n",
      " Expl Unexpl |  Obj  Depth IntInf | Incumbent    BestBd   Gap | It/Node Time\n",
      "\n",
      "     0     0    1.90196    0  257   26.00000    1.90196  92.7%     -    0s\n",
      "H    0     0                      15.0000000    1.90196  87.3%     -    0s\n",
      "H    0     0                      14.0000000    1.90196  86.4%     -    0s\n",
      "     0     0    3.08442    0  210   14.00000    3.08442  78.0%     -    0s\n",
      "H    0     0                      13.0000000    3.08442  76.3%     -    0s\n",
      "H    0     0                      11.0000000    3.08442  72.0%     -    0s\n",
      "     0     0    3.10418    0  209   11.00000    3.10418  71.8%     -    0s\n",
      "     0     0    3.10432    0  216   11.00000    3.10432  71.8%     -    0s\n",
      "     0     0    4.00000    0  130   11.00000    4.00000  63.6%     -    1s\n",
      "     0     0    4.00000    0  131   11.00000    4.00000  63.6%     -    1s\n",
      "     0     0    4.00000    0   91   11.00000    4.00000  63.6%     -    1s\n",
      "     0     0    4.30431    0  190   11.00000    4.30431  60.9%     -    1s\n",
      "     0     0    5.00000    0  142   11.00000    5.00000  54.5%     -    1s\n",
      "H    0     0                      10.0000000    5.00000  50.0%     -    1s\n",
      "H    0     0                       9.0000000    5.00000  44.4%     -    1s\n",
      "     0     0    5.00000    0  132    9.00000    5.00000  44.4%     -    1s\n",
      "     0     0    5.07700    0  155    9.00000    5.07700  43.6%     -    1s\n",
      "     0     0    5.09641    0  162    9.00000    5.09641  43.4%     -    1s\n",
      "     0     0    5.09644    0  164    9.00000    5.09644  43.4%     -    1s\n",
      "     0     0    5.21191    0  177    9.00000    5.21191  42.1%     -    1s\n",
      "     0     0    5.22679    0  170    9.00000    5.22679  41.9%     -    1s\n",
      "     0     0    5.22954    0  174    9.00000    5.22954  41.9%     -    1s\n",
      "     0     0    5.23201    0  178    9.00000    5.23201  41.9%     -    1s\n",
      "     0     0    5.23211    0  179    9.00000    5.23211  41.9%     -    1s\n",
      "     0     0    5.26943    0  186    9.00000    5.26943  41.5%     -    2s\n",
      "     0     0    5.27159    0  189    9.00000    5.27159  41.4%     -    2s\n",
      "     0     0    5.27196    0  190    9.00000    5.27196  41.4%     -    2s\n",
      "     0     0    5.28555    0  187    9.00000    5.28555  41.3%     -    2s\n",
      "     0     0    5.28667    0  191    9.00000    5.28667  41.3%     -    2s\n",
      "     0     0    5.28679    0  181    9.00000    5.28679  41.3%     -    2s\n",
      "     0     0    5.28862    0  190    9.00000    5.28862  41.2%     -    2s\n",
      "     0     0    6.00000    0   79    9.00000    6.00000  33.3%     -    2s\n",
      "     0     0    6.00000    0   79    9.00000    6.00000  33.3%     -    2s\n",
      "     0     0    6.00000    0   67    9.00000    6.00000  33.3%     -    2s\n",
      "     0     0    6.00000    0   76    9.00000    6.00000  33.3%     -    2s\n",
      "H    0     0                       8.0000000    6.00000  25.0%     -    2s\n",
      "     0     0    6.00000    0   78    8.00000    6.00000  25.0%     -    2s\n",
      "     0     0    6.00000    0   62    8.00000    6.00000  25.0%     -    2s\n",
      "     0     0    6.00000    0   29    8.00000    6.00000  25.0%     -    2s\n",
      "H    0     0                       7.0000000    6.00000  14.3%     -    3s\n",
      "     0     0    6.00000    0   55    7.00000    6.00000  14.3%     -    3s\n",
      "     0     0    6.00000    0   91    7.00000    6.00000  14.3%     -    3s\n",
      "     0     0    6.00000    0   93    7.00000    6.00000  14.3%     -    3s\n",
      "     0     0 infeasible    0         7.00000    7.00000  0.00%     -    3s\n",
      "\n",
      "Cutting planes:\n",
      "  Gomory: 8\n",
      "  Implied bound: 4\n",
      "  Clique: 47\n",
      "  Zero half: 5\n",
      "  RLT: 21\n",
      "\n",
      "Explored 1 nodes (11922 simplex iterations) in 3.15 seconds\n",
      "Thread count was 4 (of 4 available processors)\n",
      "\n",
      "Solution count 9: 7 8 9 ... 26\n",
      "\n",
      "Optimal solution found (tolerance 1.00e-04)\n",
      "Best objective 7.000000000000e+00, best bound 7.000000000000e+00, gap 0.0000%\n"
     ]
    }
   ],
   "source": [
    "model = gurobipy.Model(\"Muestreo\")\n",
    "x = model.addVars(V, vtype = GRB.BINARY, name =\"Nodos raices\")\n",
    "Z = model.addVar(vtype = GRB.CONTINUOUS , obj=1, name =\"Ideal de mayor tamano\")\n",
    "y = model.addVars(V, V, vtype = GRB.BINARY, name =\"Asignacion de nodo a muestra\")\n",
    "        \n",
    "model.addConstr((quicksum(x[i] for i in V) == K), name = \"R1\")\n",
    "model.addConstrs((y[j,i] <= x[i] for i in V for j in I[i] ), name = \"R2\")\n",
    "model.addConstrs((quicksum(y[i,j] for j in Path[i, root]) == 1 for i in V), name = \"R3\")\n",
    "model.addConstrs((x[l] <= 1 - y[j,i] for j in V for i in V for l in Path[j,i] if l != i), name = \"R4\")\n",
    "model.addConstrs((quicksum(y[j,i] for j in I[i]) <= Z for i in V), name = \"R5\")\n",
    "model.addConstr((x[root] == 1), name = \"Root\")\n",
    "\n",
    "model.setObjective(Z, GRB.MINIMIZE)\n",
    "\n",
    "solution_alternative = [410, 665, 671, 676, 680, 2149, 744, 2167]\n",
    "for root in solution_alternative:\n",
    "    x[root].start = 1.0\n",
    "# for pair in asigments:\n",
    "#     y[pair].start = 1.0\n",
    "#Z.start = 24.0\n",
    "\n",
    "model.update()\n",
    "model.optimize()"
   ]
  },
  {
   "cell_type": "code",
   "execution_count": 152,
   "metadata": {},
   "outputs": [
    {
     "name": "stdout",
     "output_type": "stream",
     "text": [
      "Ideal de mayor tamano: 24.0\n"
     ]
    },
    {
     "data": {
      "text/plain": [
       "[628, 2163, 744, 2319, 1431, 1433, 422, 963]"
      ]
     },
     "execution_count": 152,
     "metadata": {},
     "output_type": "execute_result"
    }
   ],
   "source": [
    "get_solution(V, x, y, Z)"
   ]
  },
  {
   "cell_type": "markdown",
   "metadata": {},
   "source": [
    "## Relajación lagrangiana"
   ]
  },
  {
   "cell_type": "code",
   "execution_count": 155,
   "metadata": {},
   "outputs": [
    {
     "name": "stdout",
     "output_type": "stream",
     "text": [
      "176 nodos en el grafo\n"
     ]
    }
   ],
   "source": [
    "T = nx.DiGraph()\n",
    "max_depth = 20\n",
    "T = Tree.subgraph([node for node in list(Tree.nodes()) if nx.shortest_path_length(Tree, source = node, target = 744) <= max_depth])\n",
    "K = 8\n",
    "root = 744\n",
    "V = list(T.nodes())\n",
    "N = len(V)\n",
    "print(f'{N} nodos en el grafo')"
   ]
  },
  {
   "cell_type": "code",
   "execution_count": 156,
   "metadata": {},
   "outputs": [],
   "source": [
    "I = dict()\n",
    "Path = dict()\n",
    "for u in V:\n",
    "    I[u] = get_ideal(T, [0] * 500 * N, u)\n",
    "    for v in V:\n",
    "        if v not in I[u]:\n",
    "            Path[v,u] = list()\n",
    "        else:\n",
    "            Path[v,u] = nx.shortest_path(T, source = v, target = u)"
   ]
  },
  {
   "cell_type": "markdown",
   "metadata": {},
   "source": [
    "Modelo original para comparar resultados"
   ]
  },
  {
   "cell_type": "code",
   "execution_count": 157,
   "metadata": {},
   "outputs": [
    {
     "name": "stdout",
     "output_type": "stream",
     "text": [
      "Gurobi Optimizer version 9.0.3 build v9.0.3rc0 (mac64)\n",
      "Optimize a model with 31119 rows, 31153 columns and 68151 nonzeros\n",
      "Model fingerprint: 0xb08e1c29\n",
      "Variable types: 1 continuous, 31152 integer (31152 binary)\n",
      "Coefficient statistics:\n",
      "  Matrix range     [1e+00, 1e+00]\n",
      "  Objective range  [1e+00, 1e+00]\n",
      "  Bounds range     [1e+00, 2e+01]\n",
      "  RHS range        [1e+00, 8e+00]\n",
      "Presolve removed 25352 rows and 28020 columns\n",
      "Presolve time: 0.56s\n",
      "Presolved: 5767 rows, 3133 columns, 38882 nonzeros\n",
      "Variable types: 0 continuous, 3133 integer (3132 binary)\n",
      "Found heuristic solution: objective 76.0000000\n",
      "\n",
      "Root relaxation: objective 2.200000e+01, 2501 iterations, 0.52 seconds\n",
      "\n",
      "    Nodes    |    Current Node    |     Objective Bounds      |     Work\n",
      " Expl Unexpl |  Obj  Depth IntInf | Incumbent    BestBd   Gap | It/Node Time\n",
      "\n",
      "     0     0   22.00000    0  399   76.00000   22.00000  71.1%     -    3s\n",
      "H    0     0                      68.0000000   22.00000  67.6%     -    3s\n",
      "H    0     0                      67.0000000   22.00000  67.2%     -    3s\n",
      "     0     0   22.00000    0  931   67.00000   22.00000  67.2%     -    5s\n",
      "     0     0   22.00000    0  328   67.00000   22.00000  67.2%     -   10s\n",
      "H    0     0                      63.0000000   22.00000  65.1%     -   10s\n",
      "H    0     0                      61.0000000   22.00000  63.9%     -   10s\n",
      "     0     0   22.00000    0  642   61.00000   22.00000  63.9%     -   11s\n",
      "     0     0   22.00000    0  448   61.00000   22.00000  63.9%     -   18s\n",
      "     0     0   22.00000    0  327   61.00000   22.00000  63.9%     -   19s\n",
      "H    0     0                      42.0000000   22.00000  47.6%     -   20s\n",
      "H    0     0                      38.0000000   22.00000  42.1%     -   21s\n",
      "     0     2   22.00000    0  318   38.00000   22.00000  42.1%     -   23s\n",
      "     1     4   22.00000    1  629   38.00000   22.00000  42.1%  4288   27s\n",
      "     7    10   22.37329    3  608   38.00000   22.00000  42.1%  1648   30s\n",
      "H   35    34                      36.0000000   22.00000  38.9%   486   31s\n",
      "    82    64   23.47197    6  364   36.00000   22.00000  38.9%   304   35s\n",
      "H  104    70                      35.0000000   22.00000  37.1%   264   35s\n",
      "H  131    87                      34.0000000   22.00000  35.3%   243   36s\n",
      "*  202   127              21      26.0000000   22.00000  15.4%   179   37s\n",
      "H  259   114                      25.0000000   22.00000  12.0%   151   38s\n",
      "H  277   114                      24.0000000   22.00000  8.33%   146   38s\n",
      "   356    81   22.98705    6  310   24.00000   22.00000  8.33%   153   40s\n",
      "\n",
      "Cutting planes:\n",
      "  Gomory: 1\n",
      "  Implied bound: 37\n",
      "  Clique: 2331\n",
      "  Zero half: 7\n",
      "  RLT: 60\n",
      "\n",
      "Explored 589 nodes (123083 simplex iterations) in 44.95 seconds\n",
      "Thread count was 4 (of 4 available processors)\n",
      "\n",
      "Solution count 10: 24 25 26 ... 63\n",
      "\n",
      "Optimal solution found (tolerance 1.00e-04)\n",
      "Best objective 2.400000000000e+01, best bound 2.400000000000e+01, gap 0.0000%\n"
     ]
    }
   ],
   "source": [
    "model = gurobipy.Model(\"Muestreo\")\n",
    "x = model.addVars(V, vtype = GRB.BINARY, name =\"Nodos raices\")\n",
    "Z = model.addVar(vtype = GRB.CONTINUOUS, lb = math.ceil(N/K), obj=1, name =\"Ideal de mayor tamano\")\n",
    "y = model.addVars(V, V, vtype = GRB.BINARY, name =\"Asignacion de nodo a muestra\")\n",
    "        \n",
    "model.addConstr((quicksum(x[i] for i in V) == K), name = \"R1\")\n",
    "model.addConstrs((y[j,i] <= x[i] for i in V for j in I[i] ), name = \"R2\")\n",
    "model.addConstrs((quicksum(y[i,j] for j in Path[i, root]) == 1 for i in V), name = \"R3\")\n",
    "model.addConstrs((x[l] <= 1 - y[j,i] for j in V for i in V for l in Path[j,i] if l != i), name = \"R4\")\n",
    "model.addConstrs((quicksum(y[j,i] for j in I[i]) <= Z for i in V), name = \"R5\")\n",
    "model.addConstr((x[root] == 1), name = \"Root\")\n",
    "\n",
    "model.setObjective(Z, GRB.MINIMIZE)\n",
    "model.update()\n",
    "model.optimize()"
   ]
  },
  {
   "cell_type": "code",
   "execution_count": 158,
   "metadata": {},
   "outputs": [
    {
     "name": "stdout",
     "output_type": "stream",
     "text": [
      "Solution is correct: True \n",
      "Ideal de mayor tamano: 24.0\n"
     ]
    },
    {
     "data": {
      "text/plain": [
       "[628, 2163, 744, 2319, 823, 1431, 1433, 963]"
      ]
     },
     "execution_count": 158,
     "metadata": {},
     "output_type": "execute_result"
    }
   ],
   "source": [
    "check_solution(V, x, y, check_l = True)\n",
    "solution_alternative, asigments = get_solution(V,x, y, Z, True)\n",
    "solution_alternative"
   ]
  },
  {
   "cell_type": "markdown",
   "metadata": {},
   "source": [
    "Relajación lagrangeana"
   ]
  },
  {
   "cell_type": "code",
   "execution_count": 188,
   "metadata": {},
   "outputs": [
    {
     "name": "stdout",
     "output_type": "stream",
     "text": [
      "Gurobi Optimizer version 9.0.3 build v9.0.3rc0 (mac64)\n",
      "Optimize a model with 34075 rows, 62094 columns and 154177 nonzeros\n",
      "Model fingerprint: 0xcd303072\n",
      "Variable types: 61918 continuous, 176 integer (176 binary)\n",
      "Coefficient statistics:\n",
      "  Matrix range     [1e+00, 1e+00]\n",
      "  Objective range  [1e+00, 2e+01]\n",
      "  Bounds range     [1e+00, 2e+01]\n",
      "  RHS range        [1e+00, 1e+00]\n",
      "Found heuristic solution: objective 1073.0000000\n",
      "Presolve removed 3314 rows and 30991 columns\n",
      "Presolve time: 0.69s\n",
      "Presolved: 30761 rows, 31103 columns, 92102 nonzeros\n",
      "Variable types: 30928 continuous, 175 integer (175 binary)\n",
      "\n",
      "Root relaxation: objective -7.000000e+00, 2118 iterations, 0.21 seconds\n",
      "\n",
      "    Nodes    |    Current Node    |     Objective Bounds      |     Work\n",
      " Expl Unexpl |  Obj  Depth IntInf | Incumbent    BestBd   Gap | It/Node Time\n",
      "\n",
      "*    0     0               0      -7.0000000   -7.00000  0.00%     -    1s\n",
      "\n",
      "Explored 0 nodes (2118 simplex iterations) in 1.09 seconds\n",
      "Thread count was 4 (of 4 available processors)\n",
      "\n",
      "Solution count 2: -7 1073 \n",
      "No other solutions better than -7\n",
      "\n",
      "Optimal solution found (tolerance 1.00e-04)\n",
      "Best objective -7.000000000000e+00, best bound -7.000000000000e+00, gap 0.0000%\n"
     ]
    }
   ],
   "source": [
    "import math\n",
    "model = gurobipy.Model(\"Relajacion\")\n",
    "x = model.addVars(V, vtype = GRB.BINARY, name =\"Nodos raices\")\n",
    "Z = model.addVar(vtype = GRB.CONTINUOUS , obj=1, lb = math.ceil(N/K),  name =\"Ideal de mayor tamano\")\n",
    "y = model.addVars(V, V, vtype = GRB.CONTINUOUS,lb = 0, name =\"Asignacion de nodo a muestra\")\n",
    "        \n",
    "#model.addConstr((quicksum(x[i] for i in V) == K), name = \"R1\") # No va\n",
    "model.addConstrs((y[j,i] <= x[i] for i in V for j in I[i] ), name = \"R2\") #  va\n",
    "#model.addConstrs((quicksum(y[i,j] for j in Path[i, root]) == 1 for i in V), name = \"R3\") # no va\n",
    "#model.addConstrs((x[l] <= 1 - y[j,i] for j in V for i in V for l in Path[j,i] if l != i), name = \"R4\")\n",
    "#model.addConstrs((quicksum(y[j,i] for j in I[i]) <= Z for i in V), name = \"R5\")\n",
    "#model.addConstr((x[root] == 1), name = \"Root\") # no va\n",
    "\n",
    "\n",
    "penalties_0 = [model.addVar(vtype = GRB.CONTINUOUS) for j in V for i in V for l in Path[j,i] if l != i]\n",
    "penalties_1 = [model.addVar(vtype = GRB.CONTINUOUS) for i in V]\n",
    "penalties_2 = [model.addVar(vtype = GRB.CONTINUOUS) for i in V for j in Path[i, root] ]\n",
    "\n",
    "\n",
    "# Crear un conjunto que contenga: j in V for i in V for l in Path[j,i] if l != i\n",
    "# Dualized constraints: sum j: x_ij <= 1 for all i\n",
    "model.update()\n",
    "pi = 0\n",
    "for j in V:\n",
    "    for i in V:\n",
    "        for l in Path[j,i]:\n",
    "            if l != i:\n",
    "                #(x[l] <= 1 - y[j,i]) \n",
    "                p = penalties_0[pi]\n",
    "                model.addConstr( p >= y[j,i] + x[l] - 1 )\n",
    "                pi += 1\n",
    "                \n",
    "pi = 0\n",
    "for i in V:\n",
    "    p = penalties_1[pi]\n",
    "    model.addConstr( p >= quicksum(y[j,i] for j in I[i]) - Z )\n",
    "    pi += 1\n",
    "\n",
    "pi = 0                \n",
    "for i in V:\n",
    "    for j in Path[i, root]:\n",
    "        p = penalties_2[pi]\n",
    "        #model.addConstr( p >= quicksum(y[j,i] for j in I[i]) - Z )\n",
    "        model.addConstr( p == quicksum(y[i,j] for j in Path[i, root]) - 1 ) \n",
    "        pi += 1\n",
    "\n",
    "\n",
    "\n",
    "# u[i] = Lagrangian Multiplier for the set packing contraint i\n",
    "u_0 = [ 1 for j in V for i in V for l in Path[j,i] if l != i]\n",
    "u_1 = [ 1 for i in V]\n",
    "u_2 = [ 1 for i in V for j in Path[i, root] ]\n",
    "u_k = 5\n",
    "u_r = 1\n",
    "\n",
    "#model.setParam('OutputFlag', False)\n",
    "# +  quicksum(u * p_j for u, p_j in zip(u_0, penalties_0) )\n",
    "model.setObjective( Z + quicksum(u * p_j for u, p_j in zip(u_0, penalties_0) )\n",
    "                   + quicksum(u * p_j for u, p_j in zip(u_2, penalties_2) )\n",
    "                                 +  quicksum(u * p_j for u, p_j in zip(u_1, penalties_1))\n",
    "                   +  u_k * (quicksum(x[i] for i in V) - K) + u_r * (1 - x[root]) , GRB.MINIMIZE)\n",
    "model.update()\n",
    "model.optimize()"
   ]
  },
  {
   "cell_type": "code",
   "execution_count": 189,
   "metadata": {},
   "outputs": [
    {
     "name": "stdout",
     "output_type": "stream",
     "text": [
      "Solution is correct: True \n",
      "Ideal de mayor tamano: 176.0\n"
     ]
    },
    {
     "data": {
      "text/plain": [
       "[744]"
      ]
     },
     "execution_count": 189,
     "metadata": {},
     "output_type": "execute_result"
    }
   ],
   "source": [
    "check_solution(V, x, y, check_l = True)\n",
    "solution_alternative, asigments = get_solution(V,x, y, Z, True)\n",
    "solution_alternative"
   ]
  },
  {
   "cell_type": "code",
   "execution_count": 105,
   "metadata": {},
   "outputs": [
    {
     "name": "stdout",
     "output_type": "stream",
     "text": [
      "Gurobi Optimizer version 9.0.3 build v9.0.3rc0 (mac64)\n",
      "Optimize a model with 40299 rows, 81104 columns and 123970 nonzeros\n",
      "Model fingerprint: 0xe601a0a4\n",
      "Variable types: 1 continuous, 81103 integer (81103 binary)\n",
      "Coefficient statistics:\n",
      "  Matrix range     [1e+00, 1e+00]\n",
      "  Objective range  [1e+00, 2e+00]\n",
      "  Bounds range     [1e+00, 1e+00]\n",
      "  RHS range        [1e+00, 8e+00]\n",
      "Presolve removed 285 rows and 41021 columns\n",
      "Presolve time: 1.69s\n",
      "Presolved: 40014 rows, 40083 columns, 123400 nonzeros\n",
      "Variable types: 0 continuous, 40083 integer (40082 binary)\n",
      "\n",
      "Explored 0 nodes (0 simplex iterations) in 2.22 seconds\n",
      "Thread count was 4 (of 4 available processors)\n",
      "\n",
      "Solution count 0\n",
      "\n",
      "Solve interrupted\n",
      "Best objective -, best bound 1.000000000000e+00, gap -\n",
      "iteration 1, obj = inf\n"
     ]
    },
    {
     "ename": "AttributeError",
     "evalue": "Unable to retrieve attribute 'x'",
     "output_type": "error",
     "traceback": [
      "\u001b[0;31m---------------------------------------------------------------------------\u001b[0m",
      "\u001b[0;31mAttributeError\u001b[0m                            Traceback (most recent call last)",
      "\u001b[0;32m<ipython-input-105-901b2bb2efb1>\u001b[0m in \u001b[0;36m<module>\u001b[0;34m\u001b[0m\n\u001b[1;32m     45\u001b[0m     \u001b[0mstop\u001b[0m \u001b[0;34m=\u001b[0m \u001b[0;32mTrue\u001b[0m\u001b[0;34m\u001b[0m\u001b[0;34m\u001b[0m\u001b[0m\n\u001b[1;32m     46\u001b[0m     \u001b[0;32mfor\u001b[0m \u001b[0mu_i\u001b[0m\u001b[0;34m,\u001b[0m \u001b[0mp_i\u001b[0m \u001b[0;32min\u001b[0m \u001b[0mzip\u001b[0m\u001b[0;34m(\u001b[0m\u001b[0mu\u001b[0m\u001b[0;34m,\u001b[0m \u001b[0mpenalties\u001b[0m\u001b[0;34m)\u001b[0m\u001b[0;34m:\u001b[0m\u001b[0;34m\u001b[0m\u001b[0;34m\u001b[0m\u001b[0m\n\u001b[0;32m---> 47\u001b[0;31m         \u001b[0;32mif\u001b[0m \u001b[0mabs\u001b[0m\u001b[0;34m(\u001b[0m\u001b[0mu_i\u001b[0m\u001b[0;34m)\u001b[0m \u001b[0;34m>\u001b[0m \u001b[0meps\u001b[0m \u001b[0;32mand\u001b[0m \u001b[0mabs\u001b[0m\u001b[0;34m(\u001b[0m\u001b[0mp_i\u001b[0m\u001b[0;34m.\u001b[0m\u001b[0mx\u001b[0m\u001b[0;34m)\u001b[0m \u001b[0;34m>\u001b[0m \u001b[0meps\u001b[0m\u001b[0;34m:\u001b[0m\u001b[0;34m\u001b[0m\u001b[0;34m\u001b[0m\u001b[0m\n\u001b[0m\u001b[1;32m     48\u001b[0m             \u001b[0mstop\u001b[0m \u001b[0;34m=\u001b[0m \u001b[0;32mFalse\u001b[0m\u001b[0;34m\u001b[0m\u001b[0;34m\u001b[0m\u001b[0m\n\u001b[1;32m     49\u001b[0m             \u001b[0;32mbreak\u001b[0m\u001b[0;34m\u001b[0m\u001b[0;34m\u001b[0m\u001b[0m\n",
      "\u001b[0;32mvar.pxi\u001b[0m in \u001b[0;36mgurobipy.Var.__getattr__\u001b[0;34m()\u001b[0m\n",
      "\u001b[0;32mvar.pxi\u001b[0m in \u001b[0;36mgurobipy.Var.getAttr\u001b[0;34m()\u001b[0m\n",
      "\u001b[0;32mattrutil.pxi\u001b[0m in \u001b[0;36mgurobipy.__getattr\u001b[0;34m()\u001b[0m\n",
      "\u001b[0;31mAttributeError\u001b[0m: Unable to retrieve attribute 'x'"
     ]
    }
   ],
   "source": [
    "model = gurobipy.Model(\"Relajacion\")\n",
    "x = model.addVars(V, vtype = GRB.BINARY, name =\"Nodos raices\")\n",
    "Z = model.addVar(vtype = GRB.CONTINUOUS , obj=1, name =\"Ideal de mayor tamano\")\n",
    "y = model.addVars(V, V, vtype = GRB.BINARY, name =\"Asignacion de nodo a muestra\")\n",
    "        \n",
    "model.addConstr((quicksum(x[i] for i in V) == K), name = \"R1\")\n",
    "model.addConstrs((y[j,i] <= x[i] for i in V for j in I[i] ), name = \"R2\")\n",
    "model.addConstrs((quicksum(y[i,j] for j in Path[i, root]) == 1 for i in V), name = \"R3\")\n",
    "#model.addConstrs((x[l] <= 1 - y[j,i] for j in V for i in V for l in Path[j,i] if l != i), name = \"R4\")\n",
    "model.addConstrs((quicksum(y[j,i] for j in I[i]) <= Z for i in V), name = \"R5\")\n",
    "model.addConstr((x[root] == 1), name = \"Root\")\n",
    "\n",
    "\n",
    "penalties = [model.addVar(vtype = GRB.BINARY) for j in V for i in V for l in Path[j,i] if l != i]\n",
    "\n",
    "\n",
    "# Crear un conjunto que contenga: j in V for i in V for l in Path[j,i] if l != i\n",
    "# Dualized constraints: sum j: x_ij <= 1 for all i\n",
    "model.update()\n",
    "pi = 0\n",
    "for j in V:\n",
    "    for i in V:\n",
    "        for l in Path[j,i]:\n",
    "            if l != i:\n",
    "                #(x[l] <= 1 - y[j,i]) \n",
    "                p = penalties[pi]\n",
    "                model.addConstr( p >= y[j,i] + x[l] - 1 )\n",
    "                pi += 1\n",
    "\n",
    "\n",
    "\n",
    "# u[i] = Lagrangian Multiplier for the set packing contraint i\n",
    "u = [2 for j in V for i in V for l in Path[j,i] if l != i]\n",
    "eps = 10e-6\n",
    "#model.setParam('OutputFlag', False)\n",
    "\n",
    "\n",
    "for k in range(1, 101):\n",
    "    \n",
    "    model.setObjective(Z + quicksum(u * p_j for u, p_j in zip(u, penalties) ), GRB.MINIMIZE)\n",
    "    model.update()\n",
    "    model.optimize()\n",
    "    print(f'iteration {k}, obj = {model.objVal}')\n",
    "    \n",
    "    stop = True\n",
    "    for u_i, p_i in zip(u, penalties):\n",
    "        if abs(u_i) > eps and abs(p_i.x) > eps:\n",
    "            stop = False\n",
    "            break\n",
    "\n",
    "    if stop:\n",
    "        print('primal feasible & optimal')\n",
    "        break\n",
    "\n",
    "    else:\n",
    "        s = 1.0 / k\n",
    "        for p in range(len(penalties)):\n",
    "            u[i] = max(u[i] - s*(penalties[p].x), 0.0)\n",
    "\n",
    "print('objective =', model.objVal)\n"
   ]
  },
  {
   "cell_type": "code",
   "execution_count": 95,
   "metadata": {},
   "outputs": [
    {
     "name": "stdout",
     "output_type": "stream",
     "text": [
      "Solution is correct: False \n",
      "Ideal de mayor tamano: 24.0\n"
     ]
    },
    {
     "data": {
      "text/plain": [
       "[628, 2163, 744, 2319, 904, 913, 1434, 499]"
      ]
     },
     "execution_count": 95,
     "metadata": {},
     "output_type": "execute_result"
    }
   ],
   "source": [
    "check_solution(V, x, y, check_l = True)\n",
    "solution_alternative, asigments = get_solution(V,x, y, Z, True)\n",
    "solution_alternative"
   ]
  },
  {
   "cell_type": "code",
   "execution_count": 29,
   "metadata": {},
   "outputs": [
    {
     "name": "stdout",
     "output_type": "stream",
     "text": [
      "\n",
      "IIS computed: 17 constraints, 12 bounds\n",
      "IIS runtime: 0.00 seconds\n"
     ]
    }
   ],
   "source": [
    "# for p in penalties:\n",
    "#     if p.x  < 1:\n",
    "#         print('x')\n",
    "#sum([p.x for p in penalties ])\n",
    "model.computeIIS()\n",
    "model.write(\"model.ilp\")"
   ]
  },
  {
   "cell_type": "code",
   "execution_count": null,
   "metadata": {},
   "outputs": [],
   "source": []
  },
  {
   "cell_type": "code",
   "execution_count": null,
   "metadata": {},
   "outputs": [],
   "source": []
  }
 ],
 "metadata": {
  "kernelspec": {
   "display_name": "Python 3",
   "language": "python",
   "name": "python3"
  },
  "language_info": {
   "codemirror_mode": {
    "name": "ipython",
    "version": 3
   },
   "file_extension": ".py",
   "mimetype": "text/x-python",
   "name": "python",
   "nbconvert_exporter": "python",
   "pygments_lexer": "ipython3",
   "version": "3.7.6"
  },
  "toc-showmarkdowntxt": false
 },
 "nbformat": 4,
 "nbformat_minor": 4
}
