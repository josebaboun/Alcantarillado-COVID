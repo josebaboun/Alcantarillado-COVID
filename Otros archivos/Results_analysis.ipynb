{
 "cells": [
  {
   "cell_type": "markdown",
   "metadata": {},
   "source": [
    "# Análisis de resultados de simulaciones aleatorias\n",
    "\n",
    "Partiremos creando funciones que permitan importar un archivo de soluciones y procesarlo."
   ]
  },
  {
   "cell_type": "code",
   "execution_count": 1,
   "metadata": {},
   "outputs": [],
   "source": [
    "import numpy as np\n",
    "import statistics\n",
    "import matplotlib.pyplot as plt"
   ]
  },
  {
   "cell_type": "markdown",
   "metadata": {},
   "source": [
    "Se obtienen estadísticos generales de las distribuciones para grupos de simulaciones con parámetros similares y comparables. Se obtienen los estadísticos de media, mediana y máximo para cada grafo generado aleatoriamente."
   ]
  },
  {
   "cell_type": "code",
   "execution_count": 4,
   "metadata": {},
   "outputs": [],
   "source": [
    "def get_statics(file_path_list):\n",
    "    for file_path in file_path_list:\n",
    "        with open(file_path) as file:\n",
    "            lines = file.readlines()\n",
    "            lines = [line.rstrip() for line in lines]\n",
    "\n",
    "        clean = list()\n",
    "        noise = list()\n",
    "        for i in range(len(lines[:-1])):\n",
    "            x = list(map(int, lines[i].split(\" \")))\n",
    "            extra_edges =  i%2\n",
    "            if extra_edges:\n",
    "                # (media, mediana, máximo)\n",
    "                noise.append((sum(x)/ len(x), statistics.median(x), max(x)))\n",
    "            else:\n",
    "                clean.append((sum(x)/ len(x), statistics.median(x), max(x)))\n",
    "    return clean, noise"
   ]
  },
  {
   "cell_type": "code",
   "execution_count": 5,
   "metadata": {},
   "outputs": [],
   "source": [
    "path  = '../data_random/Results/res_7139_2000_10_5.txt'\n",
    "clean, noise = get_statics([path])"
   ]
  },
  {
   "cell_type": "markdown",
   "metadata": {},
   "source": [
    "Generamos funciones para plotear la distribución de los máximos, medias y medianas"
   ]
  },
  {
   "cell_type": "code",
   "execution_count": 6,
   "metadata": {},
   "outputs": [],
   "source": [
    "def plot_mean(clean, noise):\n",
    "    clean = [i[0] for i in clean]\n",
    "    noise = [i[0] for i in noise]\n",
    "    plt.hist(clean, density=True, bins=30, color = \"skyblue\", alpha=0.5)  # density=False would make counts\n",
    "    plt.hist(noise, density=True, bins=30, color = \"red\", alpha=0.5)  #\n",
    "    plt.ylabel('Frecuencia')\n",
    "    plt.xlabel('Iteraciones promedio');\n",
    "    plt.plot()\n",
    "    print(f'Promedio de árboles: {round(sum(clean)/ len(clean), 2)}')\n",
    "    print(f'Promedio de árboles con incertidumbre: {round(sum(noise)/ len(noise), 2)}')\n",
    "    \n",
    "def plot_median(clean, noise):\n",
    "    clean = [i[1] for i in clean]\n",
    "    noise = [i[1] for i in noise]\n",
    "    plt.hist(clean, density=True, bins=30, color = \"skyblue\", alpha=0.5)  # density=False would make counts\n",
    "    plt.hist(noise, density=True, bins=30, color = \"red\", alpha=0.5)\n",
    "    plt.ylabel('Frecuencia')\n",
    "    plt.xlabel('Iteraciones promedio');\n",
    "    plt.plot()\n",
    "    print(f'Promedio de árboles: {round(sum(clean)/ len(clean), 2)}')\n",
    "    print(f'Promedio de árboles con incertidumbre: {round(sum(noise)/ len(noise), 2)}')\n",
    "    \n",
    "def plot_max(clean, noise):\n",
    "    clean = [i[2] for i in clean]\n",
    "    noise = [i[2] for i in noise]\n",
    "    plt.hist(clean, density=True, bins=30, color = \"skyblue\", alpha=0.5)  # density=False would make counts\n",
    "    plt.hist(noise, density=True, bins=30, color = \"red\", alpha=0.5)\n",
    "    plt.ylabel('Frecuencia')\n",
    "    plt.xlabel('Iteraciones promedio')\n",
    "    plt.plot()\n",
    "    print(f'Promedio de árboles: {round(sum(clean)/ len(clean), 2)}')\n",
    "    print(f'Promedio de árboles con incertidumbre: {round(sum(noise)/ len(noise), 2)}')"
   ]
  },
  {
   "cell_type": "code",
   "execution_count": 7,
   "metadata": {},
   "outputs": [
    {
     "name": "stdout",
     "output_type": "stream",
     "text": [
      "Promedio de árboles: 4.5\n",
      "Promedio de árboles con incertidumbre: 4.68\n"
     ]
    },
    {
     "data": {
      "image/png": "[encoded data removed]",
      "text/plain": [
       "<Figure size 432x288 with 1 Axes>"
      ]
     },
     "metadata": {
      "needs_background": "light"
     },
     "output_type": "display_data"
    }
   ],
   "source": [
    "plot_mean(clean, noise)v"
   ]
  },
  {
   "cell_type": "code",
   "execution_count": 8,
   "metadata": {},
   "outputs": [
    {
     "name": "stdout",
     "output_type": "stream",
     "text": [
      "Promedio de árboles: 4.54\n",
      "Promedio de árboles con incertidumbre: 4.99\n"
     ]
    },
    {
     "data": {
      "image/png": "[encoded data removed]",
      "text/plain": [
       "<Figure size 432x288 with 1 Axes>"
      ]
     },
     "metadata": {
      "needs_background": "light"
     },
     "output_type": "display_data"
    }
   ],
   "source": [
    "plot_median(clean, noise)"
   ]
  },
  {
   "cell_type": "code",
   "execution_count": 9,
   "metadata": {},
   "outputs": [
    {
     "name": "stdout",
     "output_type": "stream",
     "text": [
      "Promedio de árboles: 5.1\n",
      "Promedio de árboles con incertidumbre: 5.66\n"
     ]
    },
    {
     "data": {
      "image/png": "[encoded data removed]",
      "text/plain": [
       "<Figure size 432x288 with 1 Axes>"
      ]
     },
     "metadata": {
      "needs_background": "light"
     },
     "output_type": "display_data"
    }
   ],
   "source": [
    "plot_max(clean, noise)"
   ]
  },
  {
   "cell_type": "code",
   "execution_count": 51,
   "metadata": {},
   "outputs": [],
   "source": [
    "def plot_differences(file_path_list):\n",
    "    dif = list()\n",
    "    for file_path in file_path_list:\n",
    "        with open(file_path) as file:\n",
    "            lines = file.readlines()\n",
    "            lines = [line.rstrip() for line in lines] \n",
    "        for i in range(1, len(lines[:-1]) , 2):\n",
    "            noise = list(map(int, lines[i].split(\" \")))\n",
    "            clean = list(map(int, lines[i-1].split(\" \")))\n",
    "            dif.append([n - c for n,c in zip(noise, clean)])\n",
    "    dif = [item for sublist in dif for item in sublist]\n",
    "    plt.hist(dif, density=True, color = \"skyblue\", alpha=0.5)  # density=False would make counts\n",
    "    return dif"
   ]
  },
  {
   "cell_type": "code",
   "execution_count": 52,
   "metadata": {},
   "outputs": [
    {
     "data": {
      "image/png": "[encoded data removed]",
      "text/plain": [
       "<Figure size 432x288 with 1 Axes>"
      ]
     },
     "metadata": {
      "needs_background": "light"
     },
     "output_type": "display_data"
    }
   ],
   "source": [
    "dif = plot_differences(paths)"
   ]
  },
  {
   "cell_type": "markdown",
   "metadata": {},
   "source": [
    "Graficamos la distribución de las diferencias de las medias de los árboles y los grafos con aristas extras"
   ]
  },
  {
   "cell_type": "code",
   "execution_count": 55,
   "metadata": {},
   "outputs": [],
   "source": [
    "def plot_mean_differences(clean, noise):\n",
    "    dif = [n[0] - c[0] for c,n in zip(clean, noise)]\n",
    "    plt.hist(dif, density=True, bins=30, color = \"skyblue\", alpha=0.5)  # density=False would make counts\n",
    "    plt.ylabel('Frecuencia')\n",
    "    plt.xlabel('Diferencias promedio');\n",
    "    plt.plot()\n",
    "    print(f'Promedio de diferencias: {round(sum(dif)/ len(dif), 2)}')\n"
   ]
  },
  {
   "cell_type": "code",
   "execution_count": 56,
   "metadata": {},
   "outputs": [
    {
     "name": "stdout",
     "output_type": "stream",
     "text": [
      "Promedio de diferencias: 0.3\n"
     ]
    },
    {
     "data": {
      "image/png": "[encoded data removed]",
      "text/plain": [
       "<Figure size 432x288 with 1 Axes>"
      ]
     },
     "metadata": {
      "needs_background": "light"
     },
     "output_type": "display_data"
    }
   ],
   "source": [
    "plot_mean_differences(clean, noise)"
   ]
  },
  {
   "cell_type": "markdown",
   "metadata": {},
   "source": [
    "Vemos la distribución con otro archivo que contiene más incertidumbre. Los resultados son consistentes y se ve una peque"
   ]
  },
  {
   "cell_type": "code",
   "execution_count": 57,
   "metadata": {},
   "outputs": [
    {
     "name": "stdout",
     "output_type": "stream",
     "text": [
      "Promedio de árboles: 4.5\n",
      "Promedio de árboles con incertidumbre: 4.8\n"
     ]
    },
    {
     "data": {
      "image/png": "[encoded data removed]",
      "text/plain": [
       "<Figure size 432x288 with 1 Axes>"
      ]
     },
     "metadata": {
      "needs_background": "light"
     },
     "output_type": "display_data"
    }
   ],
   "source": [
    "paths  = [ '../data_random/Results/res_7139_2000_10_20.txt']\n",
    "clean, noise = get_statics(paths)\n",
    "plot_mean(clean, noise)"
   ]
  },
  {
   "cell_type": "code",
   "execution_count": 54,
   "metadata": {},
   "outputs": [
    {
     "name": "stdout",
     "output_type": "stream",
     "text": [
      "Promedio de árboles: 4.5\n",
      "Promedio de árboles con incertidumbre: 4.8\n"
     ]
    },
    {
     "data": {
      "image/png": "[encoded data removed]",
      "text/plain": [
       "<Figure size 432x288 with 1 Axes>"
      ]
     },
     "metadata": {
      "needs_background": "light"
     },
     "output_type": "display_data"
    }
   ],
   "source": [
    "plot_mean(clean, noise)"
   ]
  },
  {
   "cell_type": "code",
   "execution_count": null,
   "metadata": {},
   "outputs": [],
   "source": []
  }
 ],
 "metadata": {
  "kernelspec": {
   "display_name": "Python 3",
   "language": "python",
   "name": "python3"
  },
  "language_info": {
   "codemirror_mode": {
    "name": "ipython",
    "version": 3
   },
   "file_extension": ".py",
   "mimetype": "text/x-python",
   "name": "python",
   "nbconvert_exporter": "python",
   "pygments_lexer": "ipython3",
   "version": "3.7.6"
  }
 },
 "nbformat": 4,
 "nbformat_minor": 4
}
