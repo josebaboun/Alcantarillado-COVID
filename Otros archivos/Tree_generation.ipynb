{
 "cells": [
  {
   "cell_type": "markdown",
   "metadata": {},
   "source": [
    "Importamos funciones"
   ]
  },
  {
   "cell_type": "code",
   "execution_count": 1,
   "metadata": {},
   "outputs": [],
   "source": [
    "import os\n",
    "import sys\n",
    "module_path = os.path.abspath(os.path.join('..'))\n",
    "if module_path not in sys.path:\n",
    "    sys.path.append(module_path)\n",
    "    \n",
    "from ipynb.fs.full.Funciones_basicas import *\n",
    "from ipynb.fs.full.Algoritmos import *\n",
    "from ipynb.fs.full.Visualizaciones import *"
   ]
  },
  {
   "cell_type": "code",
   "execution_count": 2,
   "metadata": {},
   "outputs": [],
   "source": [
    "from collections import deque\n",
    "import random"
   ]
  },
  {
   "cell_type": "markdown",
   "metadata": {},
   "source": [
    "Leemos grafo"
   ]
  },
  {
   "cell_type": "code",
   "execution_count": 83,
   "metadata": {},
   "outputs": [],
   "source": [
    "path_geom = '../data/graph_geom_corrected_cycles.csv'\n",
    "geometry = gpd.read_file(path_geom, GEOM_POSSIBLE_NAMES=\"geometry\", KEEP_GEOM_COLUMNS=\"NO\")\n",
    "     \n",
    "path = '../data/corrected_dijkstra.csv'\n",
    "csv_grafo = pd.read_csv(path, sep=',')\n",
    "\n",
    "path_pesos = '../data/pesos_tapas.csv'\n",
    "pesos = pd.read_csv(path_pesos)\n",
    "\n",
    "out = {1003950, 15004, 15131, 1003744, 15190, 1003746, 13730, 1003167, 13731, 13732, 13733, 14062, 1003206, 16503, 13735, 16094, 16095}\n",
    "\n",
    "S = set()\n",
    "for index, row in csv_grafo.iterrows():\n",
    "    origin = row['self']\n",
    "    dest = row['other']\n",
    "    if origin not in out and dest not in out:\n",
    "        S.add(origin)\n",
    "        S.add(dest)\n",
    "\n",
    "S = list(S)\n",
    "id_ = {}; _id = {}; l = 0\n",
    "for u in S:\n",
    "    id_[u] = l; _id[l] = u\n",
    "    l += 1\n",
    "\n",
    "Tree = nx.DiGraph()\n",
    "for index, row in csv_grafo.iterrows():\n",
    "    origin = row['self']\n",
    "    dest = row['other']\n",
    "    if origin not in out and dest not in out:\n",
    "        Tree.add_edge(id_[origin], id_[dest])\n",
    "        \n",
    "G = nx.DiGraph()\n",
    "for index, row in csv_grafo.iterrows():\n",
    "    origin = row['self']\n",
    "    dest = row['other']\n",
    "    if origin not in out and dest not in out:\n",
    "        G.add_edge(id_[origin], id_[dest])\n",
    "    \n",
    "N = l\n",
    "\n",
    "W = [0] * N\n",
    "\n",
    "for u in range(N):\n",
    "    if pesos[pesos['ID_tapa'] == _id[u]].shape[0] >= 1:  ## tomamos primera columna con el id, si no hay peso = 0\n",
    "        W[u] = pesos[pesos['ID_tapa'] == _id[u]].iloc[0]['per_predio']"
   ]
  },
  {
   "cell_type": "markdown",
   "metadata": {},
   "source": [
    "Obtenemos carácterísticas del grafo"
   ]
  },
  {
   "cell_type": "markdown",
   "metadata": {},
   "source": [
    "## Algoritmo\n",
    "Parámetros iniciales"
   ]
  },
  {
   "cell_type": "code",
   "execution_count": 52,
   "metadata": {},
   "outputs": [],
   "source": [
    "J = N\n",
    "J = 30 # N\n",
    "O = deque([0], int(1e6)) #0 es WTF\n",
    "S = 0\n",
    "#F_l = #largo de calles\n",
    "#P_n = # cantidad de salidas desde el nodo\n",
    "G = nx.DiGraph()\n",
    "l = 0"
   ]
  },
  {
   "cell_type": "markdown",
   "metadata": {},
   "source": [
    "Main loop"
   ]
  },
  {
   "cell_type": "code",
   "execution_count": 103,
   "metadata": {},
   "outputs": [],
   "source": [
    "while True:\n",
    "    # Parámetros\n",
    "    J = N\n",
    "    J = 40 # N\n",
    "    O = deque([0], int(1e4)) #0 es WTF\n",
    "    S = 0\n",
    "    F_l = list(range(1,6)) # Largo de las calles\n",
    "    P_n = [1, 1, 1, 1, 2, 2, 3, 3, 4] # cantidad de salidas desde el nodo\n",
    "    G = nx.DiGraph()\n",
    "    l = 0\n",
    "    \n",
    "    # Main loop\n",
    "    while O: \n",
    "        # nts: next_tree_segment\n",
    "        nts = O.popleft()\n",
    "        growth = random.choice(P_n) \n",
    "        lenght_ = random.sample(F_l, growth)\n",
    "        \n",
    "        for i in range(1, growth + 1):\n",
    "            G.add_edge(l + i, nts, length = lenght_[i - 1])\n",
    "            O.append(l+i)\n",
    "            \n",
    "        l += growth\n",
    "        S += growth\n",
    "        \n",
    "        \n",
    "        if S >= J:\n",
    "            break\n",
    "    \n",
    "    if len(G.nodes()) > J:\n",
    "        break"
   ]
  },
  {
   "cell_type": "code",
   "execution_count": 104,
   "metadata": {},
   "outputs": [
    {
     "data": {
      "text/plain": [
       "41"
      ]
     },
     "execution_count": 104,
     "metadata": {},
     "output_type": "execute_result"
    }
   ],
   "source": [
    "len(G.nodes())"
   ]
  },
  {
   "cell_type": "code",
   "execution_count": 105,
   "metadata": {},
   "outputs": [
    {
     "data": {
      "image/png": "[encoded data removed]",
      "text/plain": [
       "<Figure size 432x288 with 1 Axes>"
      ]
     },
     "metadata": {},
     "output_type": "display_data"
    }
   ],
   "source": [
    "layout = nx.planar_layout(G)\n",
    "nx.draw(G, pos = layout, with_labels = False )"
   ]
  },
  {
   "cell_type": "code",
   "execution_count": 99,
   "metadata": {},
   "outputs": [
    {
     "name": "stdout",
     "output_type": "stream",
     "text": [
      "42\n"
     ]
    }
   ],
   "source": [
    "max_depth = 15\n",
    "T = Tree.subgraph([node for node in list(Tree.nodes()) if nx.shortest_path_length(Tree, source = node, target = 744) <= max_depth])\n",
    "print(len(T.nodes()))"
   ]
  },
  {
   "cell_type": "code",
   "execution_count": 101,
   "metadata": {},
   "outputs": [
    {
     "data": {
      "image/png": "[encoded data removed]",
      "text/plain": [
       "<Figure size 432x288 with 1 Axes>"
      ]
     },
     "metadata": {},
     "output_type": "display_data"
    }
   ],
   "source": [
    "layout = nx.planar_layout(T)\n",
    "nx.draw(T, pos = layout, with_labels = False )"
   ]
  },
  {
   "cell_type": "code",
   "execution_count": null,
   "metadata": {},
   "outputs": [],
   "source": []
  }
 ],
 "metadata": {
  "kernelspec": {
   "display_name": "Python 3",
   "language": "python",
   "name": "python3"
  },
  "language_info": {
   "codemirror_mode": {
    "name": "ipython",
    "version": 3
   },
   "file_extension": ".py",
   "mimetype": "text/x-python",
   "name": "python",
   "nbconvert_exporter": "python",
   "pygments_lexer": "ipython3",
   "version": "3.7.6"
  }
 },
 "nbformat": 4,
 "nbformat_minor": 4
}
